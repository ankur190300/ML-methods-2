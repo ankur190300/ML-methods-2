{
 "cells": [
  {
   "cell_type": "code",
   "execution_count": 30,
   "metadata": {},
   "outputs": [],
   "source": [
    "import pandas as pd \n",
    "import numpy as np "
   ]
  },
  {
   "cell_type": "markdown",
   "metadata": {},
   "source": [
    "# Getting the data"
   ]
  },
  {
   "cell_type": "code",
   "execution_count": 37,
   "metadata": {},
   "outputs": [
    {
     "name": "stdout",
     "output_type": "stream",
     "text": [
      "(2250, 2) (2250, 1)\n",
      "      label\n",
      "0         0\n",
      "1         0\n",
      "2         1\n",
      "3         0\n",
      "4         1\n",
      "5         0\n",
      "6         0\n",
      "7         0\n",
      "8         0\n",
      "9         1\n",
      "10        0\n",
      "11        1\n",
      "12        1\n",
      "13        0\n",
      "14        1\n",
      "15        0\n",
      "16        1\n",
      "17        0\n",
      "18        1\n",
      "19        1\n",
      "20        1\n",
      "21        0\n",
      "22        0\n",
      "23        1\n",
      "24        0\n",
      "25        1\n",
      "26        0\n",
      "27        0\n",
      "28        0\n",
      "29        1\n",
      "...     ...\n",
      "2220      0\n",
      "2221      0\n",
      "2222      1\n",
      "2223      1\n",
      "2224      1\n",
      "2225      0\n",
      "2226      1\n",
      "2227      0\n",
      "2228      1\n",
      "2229      0\n",
      "2230      1\n",
      "2231      1\n",
      "2232      1\n",
      "2233      1\n",
      "2234      1\n",
      "2235      1\n",
      "2236      0\n",
      "2237      1\n",
      "2238      0\n",
      "2239      0\n",
      "2240      0\n",
      "2241      0\n",
      "2242      1\n",
      "2243      0\n",
      "2244      0\n",
      "2245      1\n",
      "2246      1\n",
      "2247      1\n",
      "2248      1\n",
      "2249      0\n",
      "\n",
      "[2250 rows x 1 columns]\n"
     ]
    }
   ],
   "source": [
    "X= pd.read_csv(\"./datasets/NeuralNetwork1_X_Train.csv\")\n",
    "Y = pd.read_csv(\"./datasets/NeuralNetwork1_Y_Train.csv\")\n",
    "print(X.shape, Y.shape)\n"
   ]
  },
  {
   "cell_type": "markdown",
   "metadata": {},
   "source": [
    "# Making the Neural network model"
   ]
  },
  {
   "cell_type": "code",
   "execution_count": 32,
   "metadata": {},
   "outputs": [],
   "source": [
    "from keras.layers import Dense\n",
    "from keras import models"
   ]
  },
  {
   "cell_type": "code",
   "execution_count": 42,
   "metadata": {},
   "outputs": [
    {
     "name": "stdout",
     "output_type": "stream",
     "text": [
      "Model: \"sequential_6\"\n",
      "_________________________________________________________________\n",
      "Layer (type)                 Output Shape              Param #   \n",
      "=================================================================\n",
      "dense_7 (Dense)              (None, 2)                 6         \n",
      "=================================================================\n",
      "Total params: 6\n",
      "Trainable params: 6\n",
      "Non-trainable params: 0\n",
      "_________________________________________________________________\n"
     ]
    }
   ],
   "source": [
    "# defining the model\n",
    "model = models.Sequential()\n",
    "\n",
    "model.add(Dense(2, activation='sigmoid', input_shape=(2,)))\n",
    "#model.add(Dense(1,activation='sigmoid'))\n",
    "\n",
    "#compiling the model\n",
    "model.compile(optimizer= 'adam', metrics=[\"accuracy\"], loss= \"binary_crossentropy\")\n",
    "model.summary()"
   ]
  },
  {
   "cell_type": "markdown",
   "metadata": {},
   "source": [
    "# Training the model"
   ]
  },
  {
   "cell_type": "code",
   "execution_count": 43,
   "metadata": {},
   "outputs": [
    {
     "name": "stdout",
     "output_type": "stream",
     "text": [
      "Train on 1800 samples, validate on 450 samples\n",
      "Epoch 1/100\n",
      "1800/1800 [==============================] - 0s 194us/step - loss: 0.7859 - accuracy: 0.4422 - val_loss: 0.7670 - val_accuracy: 0.4678\n",
      "Epoch 2/100\n",
      "1800/1800 [==============================] - 0s 98us/step - loss: 0.7608 - accuracy: 0.4578 - val_loss: 0.7434 - val_accuracy: 0.4733\n",
      "Epoch 3/100\n",
      "1800/1800 [==============================] - 0s 97us/step - loss: 0.7376 - accuracy: 0.4750 - val_loss: 0.7212 - val_accuracy: 0.4944\n",
      "Epoch 4/100\n",
      "1800/1800 [==============================] - 0s 88us/step - loss: 0.7158 - accuracy: 0.4914 - val_loss: 0.7006 - val_accuracy: 0.5044\n",
      "Epoch 5/100\n",
      "1800/1800 [==============================] - 0s 101us/step - loss: 0.6955 - accuracy: 0.5042 - val_loss: 0.6810 - val_accuracy: 0.5156\n",
      "Epoch 6/100\n",
      "1800/1800 [==============================] - 0s 86us/step - loss: 0.6764 - accuracy: 0.5206 - val_loss: 0.6630 - val_accuracy: 0.5278\n",
      "Epoch 7/100\n",
      "1800/1800 [==============================] - 0s 77us/step - loss: 0.6584 - accuracy: 0.5381 - val_loss: 0.6461 - val_accuracy: 0.5433\n",
      "Epoch 8/100\n",
      "1800/1800 [==============================] - 0s 71us/step - loss: 0.6418 - accuracy: 0.5556 - val_loss: 0.6301 - val_accuracy: 0.5578\n",
      "Epoch 9/100\n",
      "1800/1800 [==============================] - 0s 76us/step - loss: 0.6264 - accuracy: 0.5733 - val_loss: 0.6151 - val_accuracy: 0.5789\n",
      "Epoch 10/100\n",
      "1800/1800 [==============================] - 0s 92us/step - loss: 0.6118 - accuracy: 0.5894 - val_loss: 0.6015 - val_accuracy: 0.6000\n",
      "Epoch 11/100\n",
      "1800/1800 [==============================] - 0s 78us/step - loss: 0.5982 - accuracy: 0.6039 - val_loss: 0.5880 - val_accuracy: 0.6144\n",
      "Epoch 12/100\n",
      "1800/1800 [==============================] - 0s 89us/step - loss: 0.5854 - accuracy: 0.6133 - val_loss: 0.5758 - val_accuracy: 0.6300\n",
      "Epoch 13/100\n",
      "1800/1800 [==============================] - 0s 76us/step - loss: 0.5735 - accuracy: 0.6233 - val_loss: 0.5645 - val_accuracy: 0.6411\n",
      "Epoch 14/100\n",
      "1800/1800 [==============================] - 0s 78us/step - loss: 0.5624 - accuracy: 0.6381 - val_loss: 0.5536 - val_accuracy: 0.6500\n",
      "Epoch 15/100\n",
      "1800/1800 [==============================] - 0s 77us/step - loss: 0.5518 - accuracy: 0.6489 - val_loss: 0.5435 - val_accuracy: 0.6589\n",
      "Epoch 16/100\n",
      "1800/1800 [==============================] - 0s 78us/step - loss: 0.5420 - accuracy: 0.6592 - val_loss: 0.5337 - val_accuracy: 0.6778\n",
      "Epoch 17/100\n",
      "1800/1800 [==============================] - 0s 92us/step - loss: 0.5327 - accuracy: 0.6694 - val_loss: 0.5248 - val_accuracy: 0.6878\n",
      "Epoch 18/100\n",
      "1800/1800 [==============================] - 0s 89us/step - loss: 0.5239 - accuracy: 0.6822 - val_loss: 0.5160 - val_accuracy: 0.6922\n",
      "Epoch 19/100\n",
      "1800/1800 [==============================] - 0s 118us/step - loss: 0.5156 - accuracy: 0.6906 - val_loss: 0.5080 - val_accuracy: 0.7000\n",
      "Epoch 20/100\n",
      "1800/1800 [==============================] - 0s 92us/step - loss: 0.5078 - accuracy: 0.7003 - val_loss: 0.5003 - val_accuracy: 0.7033\n",
      "Epoch 21/100\n",
      "1800/1800 [==============================] - 0s 85us/step - loss: 0.5005 - accuracy: 0.7064 - val_loss: 0.4930 - val_accuracy: 0.7156\n",
      "Epoch 22/100\n",
      "1800/1800 [==============================] - 0s 89us/step - loss: 0.4936 - accuracy: 0.7114 - val_loss: 0.4862 - val_accuracy: 0.7189\n",
      "Epoch 23/100\n",
      "1800/1800 [==============================] - 0s 103us/step - loss: 0.4870 - accuracy: 0.7200 - val_loss: 0.4797 - val_accuracy: 0.7278\n",
      "Epoch 24/100\n",
      "1800/1800 [==============================] - 0s 92us/step - loss: 0.4808 - accuracy: 0.7264 - val_loss: 0.4734 - val_accuracy: 0.7333\n",
      "Epoch 25/100\n",
      "1800/1800 [==============================] - 0s 93us/step - loss: 0.4749 - accuracy: 0.7344 - val_loss: 0.4675 - val_accuracy: 0.7400\n",
      "Epoch 26/100\n",
      "1800/1800 [==============================] - 0s 95us/step - loss: 0.4691 - accuracy: 0.7400 - val_loss: 0.4618 - val_accuracy: 0.7478\n",
      "Epoch 27/100\n",
      "1800/1800 [==============================] - 0s 90us/step - loss: 0.4638 - accuracy: 0.7439 - val_loss: 0.4564 - val_accuracy: 0.7511\n",
      "Epoch 28/100\n",
      "1800/1800 [==============================] - 0s 92us/step - loss: 0.4587 - accuracy: 0.7464 - val_loss: 0.4510 - val_accuracy: 0.7533\n",
      "Epoch 29/100\n",
      "1800/1800 [==============================] - 0s 88us/step - loss: 0.4537 - accuracy: 0.7497 - val_loss: 0.4462 - val_accuracy: 0.7611\n",
      "Epoch 30/100\n",
      "1800/1800 [==============================] - 0s 80us/step - loss: 0.4490 - accuracy: 0.7539 - val_loss: 0.4416 - val_accuracy: 0.7633\n",
      "Epoch 31/100\n",
      "1800/1800 [==============================] - 0s 75us/step - loss: 0.4446 - accuracy: 0.7597 - val_loss: 0.4369 - val_accuracy: 0.7656\n",
      "Epoch 32/100\n",
      "1800/1800 [==============================] - 0s 83us/step - loss: 0.4402 - accuracy: 0.7619 - val_loss: 0.4324 - val_accuracy: 0.7689\n",
      "Epoch 33/100\n",
      "1800/1800 [==============================] - 0s 95us/step - loss: 0.4360 - accuracy: 0.7647 - val_loss: 0.4282 - val_accuracy: 0.7711\n",
      "Epoch 34/100\n",
      "1800/1800 [==============================] - 0s 88us/step - loss: 0.4320 - accuracy: 0.7675 - val_loss: 0.4243 - val_accuracy: 0.7722\n",
      "Epoch 35/100\n",
      "1800/1800 [==============================] - 0s 79us/step - loss: 0.4282 - accuracy: 0.7700 - val_loss: 0.4201 - val_accuracy: 0.7756\n",
      "Epoch 36/100\n",
      "1800/1800 [==============================] - 0s 88us/step - loss: 0.4245 - accuracy: 0.7725 - val_loss: 0.4164 - val_accuracy: 0.7811\n",
      "Epoch 37/100\n",
      "1800/1800 [==============================] - 0s 100us/step - loss: 0.4209 - accuracy: 0.7753 - val_loss: 0.4127 - val_accuracy: 0.7856\n",
      "Epoch 38/100\n",
      "1800/1800 [==============================] - 0s 88us/step - loss: 0.4175 - accuracy: 0.7769 - val_loss: 0.4093 - val_accuracy: 0.7878\n",
      "Epoch 39/100\n",
      "1800/1800 [==============================] - 0s 92us/step - loss: 0.4142 - accuracy: 0.7792 - val_loss: 0.4059 - val_accuracy: 0.7889\n",
      "Epoch 40/100\n",
      "1800/1800 [==============================] - 0s 92us/step - loss: 0.4110 - accuracy: 0.7825 - val_loss: 0.4026 - val_accuracy: 0.7922\n",
      "Epoch 41/100\n",
      "1800/1800 [==============================] - 0s 88us/step - loss: 0.4079 - accuracy: 0.7856 - val_loss: 0.3994 - val_accuracy: 0.7944\n",
      "Epoch 42/100\n",
      "1800/1800 [==============================] - 0s 109us/step - loss: 0.4048 - accuracy: 0.7869 - val_loss: 0.3959 - val_accuracy: 0.7989\n",
      "Epoch 43/100\n",
      "1800/1800 [==============================] - 0s 91us/step - loss: 0.4019 - accuracy: 0.7908 - val_loss: 0.3928 - val_accuracy: 0.8022\n",
      "Epoch 44/100\n",
      "1800/1800 [==============================] - 0s 81us/step - loss: 0.3991 - accuracy: 0.7922 - val_loss: 0.3898 - val_accuracy: 0.8044\n",
      "Epoch 45/100\n",
      "1800/1800 [==============================] - 0s 88us/step - loss: 0.3963 - accuracy: 0.7944 - val_loss: 0.3870 - val_accuracy: 0.8056\n",
      "Epoch 46/100\n",
      "1800/1800 [==============================] - 0s 105us/step - loss: 0.3937 - accuracy: 0.7983 - val_loss: 0.3841 - val_accuracy: 0.8078\n",
      "Epoch 47/100\n",
      "1800/1800 [==============================] - 0s 88us/step - loss: 0.3910 - accuracy: 0.8006 - val_loss: 0.3812 - val_accuracy: 0.8089\n",
      "Epoch 48/100\n",
      "1800/1800 [==============================] - 0s 100us/step - loss: 0.3885 - accuracy: 0.8022 - val_loss: 0.3784 - val_accuracy: 0.8122\n",
      "Epoch 49/100\n",
      "1800/1800 [==============================] - 0s 85us/step - loss: 0.3860 - accuracy: 0.8042 - val_loss: 0.3758 - val_accuracy: 0.8133\n",
      "Epoch 50/100\n",
      "1800/1800 [==============================] - 0s 79us/step - loss: 0.3836 - accuracy: 0.8056 - val_loss: 0.3733 - val_accuracy: 0.8144\n",
      "Epoch 51/100\n",
      "1800/1800 [==============================] - 0s 88us/step - loss: 0.3813 - accuracy: 0.8072 - val_loss: 0.3707 - val_accuracy: 0.8178\n",
      "Epoch 52/100\n",
      "1800/1800 [==============================] - 0s 92us/step - loss: 0.3790 - accuracy: 0.8086 - val_loss: 0.3682 - val_accuracy: 0.8189\n",
      "Epoch 53/100\n",
      "1800/1800 [==============================] - 0s 84us/step - loss: 0.3768 - accuracy: 0.8094 - val_loss: 0.3659 - val_accuracy: 0.8200\n",
      "Epoch 54/100\n",
      "1800/1800 [==============================] - 0s 84us/step - loss: 0.3746 - accuracy: 0.8106 - val_loss: 0.3634 - val_accuracy: 0.8222\n",
      "Epoch 55/100\n",
      "1800/1800 [==============================] - 0s 91us/step - loss: 0.3725 - accuracy: 0.8125 - val_loss: 0.3612 - val_accuracy: 0.8267\n",
      "Epoch 56/100\n"
     ]
    },
    {
     "name": "stdout",
     "output_type": "stream",
     "text": [
      "1800/1800 [==============================] - 0s 97us/step - loss: 0.3704 - accuracy: 0.8131 - val_loss: 0.3590 - val_accuracy: 0.8278\n",
      "Epoch 57/100\n",
      "1800/1800 [==============================] - 0s 80us/step - loss: 0.3684 - accuracy: 0.8139 - val_loss: 0.3568 - val_accuracy: 0.8311\n",
      "Epoch 58/100\n",
      "1800/1800 [==============================] - 0s 70us/step - loss: 0.3664 - accuracy: 0.8156 - val_loss: 0.3545 - val_accuracy: 0.8322\n",
      "Epoch 59/100\n",
      "1800/1800 [==============================] - 0s 75us/step - loss: 0.3645 - accuracy: 0.8172 - val_loss: 0.3525 - val_accuracy: 0.8333\n",
      "Epoch 60/100\n",
      "1800/1800 [==============================] - 0s 88us/step - loss: 0.3626 - accuracy: 0.8186 - val_loss: 0.3503 - val_accuracy: 0.8344\n",
      "Epoch 61/100\n",
      "1800/1800 [==============================] - 0s 101us/step - loss: 0.3607 - accuracy: 0.8200 - val_loss: 0.3483 - val_accuracy: 0.8356\n",
      "Epoch 62/100\n",
      "1800/1800 [==============================] - 0s 89us/step - loss: 0.3589 - accuracy: 0.8214 - val_loss: 0.3463 - val_accuracy: 0.8378\n",
      "Epoch 63/100\n",
      "1800/1800 [==============================] - 0s 116us/step - loss: 0.3572 - accuracy: 0.8228 - val_loss: 0.3444 - val_accuracy: 0.8400\n",
      "Epoch 64/100\n",
      "1800/1800 [==============================] - 0s 93us/step - loss: 0.3555 - accuracy: 0.8236 - val_loss: 0.3424 - val_accuracy: 0.8411\n",
      "Epoch 65/100\n",
      "1800/1800 [==============================] - 0s 91us/step - loss: 0.3538 - accuracy: 0.8256 - val_loss: 0.3407 - val_accuracy: 0.8411\n",
      "Epoch 66/100\n",
      "1800/1800 [==============================] - 0s 95us/step - loss: 0.3522 - accuracy: 0.8264 - val_loss: 0.3386 - val_accuracy: 0.8456\n",
      "Epoch 67/100\n",
      "1800/1800 [==============================] - 0s 111us/step - loss: 0.3505 - accuracy: 0.8281 - val_loss: 0.3370 - val_accuracy: 0.8467\n",
      "Epoch 68/100\n",
      "1800/1800 [==============================] - 0s 87us/step - loss: 0.3490 - accuracy: 0.8294 - val_loss: 0.3353 - val_accuracy: 0.8489\n",
      "Epoch 69/100\n",
      "1800/1800 [==============================] - 0s 80us/step - loss: 0.3475 - accuracy: 0.8303 - val_loss: 0.3334 - val_accuracy: 0.8511\n",
      "Epoch 70/100\n",
      "1800/1800 [==============================] - 0s 71us/step - loss: 0.3460 - accuracy: 0.8319 - val_loss: 0.3317 - val_accuracy: 0.8533\n",
      "Epoch 71/100\n",
      "1800/1800 [==============================] - 0s 104us/step - loss: 0.3445 - accuracy: 0.8333 - val_loss: 0.3301 - val_accuracy: 0.8567\n",
      "Epoch 72/100\n",
      "1800/1800 [==============================] - 0s 91us/step - loss: 0.3431 - accuracy: 0.8339 - val_loss: 0.3285 - val_accuracy: 0.8589\n",
      "Epoch 73/100\n",
      "1800/1800 [==============================] - 0s 81us/step - loss: 0.3417 - accuracy: 0.8353 - val_loss: 0.3269 - val_accuracy: 0.8600\n",
      "Epoch 74/100\n",
      "1800/1800 [==============================] - 0s 86us/step - loss: 0.3403 - accuracy: 0.8369 - val_loss: 0.3255 - val_accuracy: 0.8611\n",
      "Epoch 75/100\n",
      "1800/1800 [==============================] - 0s 90us/step - loss: 0.3390 - accuracy: 0.8383 - val_loss: 0.3239 - val_accuracy: 0.8622\n",
      "Epoch 76/100\n",
      "1800/1800 [==============================] - 0s 98us/step - loss: 0.3377 - accuracy: 0.8389 - val_loss: 0.3221 - val_accuracy: 0.8622\n",
      "Epoch 77/100\n",
      "1800/1800 [==============================] - 0s 89us/step - loss: 0.3364 - accuracy: 0.8397 - val_loss: 0.3208 - val_accuracy: 0.8633\n",
      "Epoch 78/100\n",
      "1800/1800 [==============================] - 0s 88us/step - loss: 0.3352 - accuracy: 0.8400 - val_loss: 0.3194 - val_accuracy: 0.8633\n",
      "Epoch 79/100\n",
      "1800/1800 [==============================] - 0s 110us/step - loss: 0.3339 - accuracy: 0.8411 - val_loss: 0.3180 - val_accuracy: 0.8633\n",
      "Epoch 80/100\n",
      "1800/1800 [==============================] - 0s 89us/step - loss: 0.3328 - accuracy: 0.8425 - val_loss: 0.3165 - val_accuracy: 0.8633\n",
      "Epoch 81/100\n",
      "1800/1800 [==============================] - 0s 92us/step - loss: 0.3316 - accuracy: 0.8431 - val_loss: 0.3151 - val_accuracy: 0.8644\n",
      "Epoch 82/100\n",
      "1800/1800 [==============================] - 0s 86us/step - loss: 0.3306 - accuracy: 0.8444 - val_loss: 0.3140 - val_accuracy: 0.8644\n",
      "Epoch 83/100\n",
      "1800/1800 [==============================] - 0s 81us/step - loss: 0.3294 - accuracy: 0.8453 - val_loss: 0.3125 - val_accuracy: 0.8656\n",
      "Epoch 84/100\n",
      "1800/1800 [==============================] - 0s 81us/step - loss: 0.3283 - accuracy: 0.8461 - val_loss: 0.3111 - val_accuracy: 0.8667\n",
      "Epoch 85/100\n",
      "1800/1800 [==============================] - 0s 103us/step - loss: 0.3273 - accuracy: 0.8461 - val_loss: 0.3100 - val_accuracy: 0.8667\n",
      "Epoch 86/100\n",
      "1800/1800 [==============================] - 0s 91us/step - loss: 0.3263 - accuracy: 0.8467 - val_loss: 0.3086 - val_accuracy: 0.8678\n",
      "Epoch 87/100\n",
      "1800/1800 [==============================] - 0s 83us/step - loss: 0.3252 - accuracy: 0.8483 - val_loss: 0.3076 - val_accuracy: 0.8700\n",
      "Epoch 88/100\n",
      "1800/1800 [==============================] - 0s 87us/step - loss: 0.3243 - accuracy: 0.8489 - val_loss: 0.3066 - val_accuracy: 0.8700\n",
      "Epoch 89/100\n",
      "1800/1800 [==============================] - 0s 84us/step - loss: 0.3234 - accuracy: 0.8500 - val_loss: 0.3052 - val_accuracy: 0.8689\n",
      "Epoch 90/100\n",
      "1800/1800 [==============================] - 0s 76us/step - loss: 0.3224 - accuracy: 0.8506 - val_loss: 0.3042 - val_accuracy: 0.8689\n",
      "Epoch 91/100\n",
      "1800/1800 [==============================] - 0s 84us/step - loss: 0.3215 - accuracy: 0.8506 - val_loss: 0.3030 - val_accuracy: 0.8711\n",
      "Epoch 92/100\n",
      "1800/1800 [==============================] - 0s 85us/step - loss: 0.3206 - accuracy: 0.8511 - val_loss: 0.3020 - val_accuracy: 0.8711\n",
      "Epoch 93/100\n",
      "1800/1800 [==============================] - 0s 86us/step - loss: 0.3198 - accuracy: 0.8508 - val_loss: 0.3008 - val_accuracy: 0.8722\n",
      "Epoch 94/100\n",
      "1800/1800 [==============================] - 0s 74us/step - loss: 0.3190 - accuracy: 0.8514 - val_loss: 0.2998 - val_accuracy: 0.8733\n",
      "Epoch 95/100\n",
      "1800/1800 [==============================] - 0s 74us/step - loss: 0.3182 - accuracy: 0.8519 - val_loss: 0.2989 - val_accuracy: 0.8733\n",
      "Epoch 96/100\n",
      "1800/1800 [==============================] - 0s 78us/step - loss: 0.3173 - accuracy: 0.8533 - val_loss: 0.2978 - val_accuracy: 0.8756\n",
      "Epoch 97/100\n",
      "1800/1800 [==============================] - 0s 94us/step - loss: 0.3166 - accuracy: 0.8539 - val_loss: 0.2968 - val_accuracy: 0.8744\n",
      "Epoch 98/100\n",
      "1800/1800 [==============================] - 0s 81us/step - loss: 0.3159 - accuracy: 0.8525 - val_loss: 0.2958 - val_accuracy: 0.8744\n",
      "Epoch 99/100\n",
      "1800/1800 [==============================] - 0s 76us/step - loss: 0.3151 - accuracy: 0.8536 - val_loss: 0.2948 - val_accuracy: 0.8744\n",
      "Epoch 100/100\n",
      "1800/1800 [==============================] - 0s 90us/step - loss: 0.3144 - accuracy: 0.8550 - val_loss: 0.2940 - val_accuracy: 0.8756\n",
      "{'val_loss': [0.7670331954956054, 0.7433876744906107, 0.721224365764194, 0.7005574075380961, 0.6810125284724765, 0.6630020120408799, 0.646090612411499, 0.6300593201319377, 0.6150761347346836, 0.6014716386795044, 0.587997482087877, 0.5758162779278225, 0.5645175194740295, 0.5536130767398411, 0.5434706468052334, 0.5337123011218177, 0.5247960784700182, 0.5160448466406928, 0.5079818385177188, 0.5002882774670919, 0.4929565441608429, 0.48620861477322047, 0.47969874646928573, 0.4733898851606581, 0.4675445787111918, 0.46184391604529484, 0.45640806939866807, 0.4510152796904246, 0.44622443119684857, 0.4415587298075358, 0.43688316583633424, 0.4324358231491513, 0.42820367203818427, 0.42428918957710265, 0.42011968387497794, 0.4163794243335724, 0.412667093012068, 0.409321329858568, 0.4058745339181688, 0.40256289482116697, 0.3993831916650136, 0.39590432074334886, 0.3928410902288225, 0.3897632375028398, 0.38702447560098435, 0.38409974588288204, 0.3811757998996311, 0.3784134221076965, 0.3758144394556681, 0.3732679818736182, 0.37067153294881183, 0.3682086043887668, 0.36588885691430834, 0.36337829258706833, 0.36124721275435556, 0.35901966293652854, 0.35680759880277846, 0.3545240416791704, 0.35246549752023487, 0.35030460980203415, 0.34825205206871035, 0.34632280707359314, 0.3443628986676534, 0.34239402969678245, 0.34071927163336013, 0.3386242271794213, 0.33703795512517293, 0.33531939347585044, 0.33343991756439206, 0.33174097816149395, 0.33013596177101134, 0.3284646591875288, 0.32685467110739813, 0.3254520054658254, 0.3238632419374254, 0.3221495615111457, 0.32084352122412785, 0.31940512564447193, 0.31797221740086873, 0.3164982619550493, 0.3150959073172675, 0.31396843274434405, 0.31251484870910645, 0.3111061594221327, 0.30997040801578096, 0.3086221220758226, 0.3076020095083449, 0.3065876367357042, 0.3052051395840115, 0.3041924177275764, 0.30296551757388646, 0.30198061108589175, 0.30077457229296367, 0.2998289042048984, 0.2988642595873939, 0.29775046586990356, 0.29676922374301484, 0.2957945211728414, 0.29484296758969625, 0.2940015807416704], 'val_accuracy': [0.4677777886390686, 0.47333332896232605, 0.49444442987442017, 0.504444420337677, 0.5155555605888367, 0.5277777910232544, 0.5433333516120911, 0.5577777624130249, 0.5788888931274414, 0.6000000238418579, 0.6144444346427917, 0.6299999952316284, 0.6411111354827881, 0.6499999761581421, 0.6588888764381409, 0.6777777671813965, 0.6877777576446533, 0.6922222375869751, 0.699999988079071, 0.70333331823349, 0.7155555486679077, 0.7188888788223267, 0.7277777791023254, 0.7333333492279053, 0.7400000095367432, 0.7477777600288391, 0.7511110901832581, 0.753333330154419, 0.7611111402511597, 0.7633333206176758, 0.7655555605888367, 0.7688888907432556, 0.7711111307144165, 0.7722222208976746, 0.7755555510520935, 0.7811111211776733, 0.7855555415153503, 0.7877777814865112, 0.7888888716697693, 0.7922222018241882, 0.7944444417953491, 0.7988888621330261, 0.8022222518920898, 0.804444432258606, 0.8055555820465088, 0.8077777624130249, 0.8088889122009277, 0.8122222423553467, 0.8133333325386047, 0.8144444227218628, 0.8177777528762817, 0.8188889026641846, 0.8199999928474426, 0.8222222328186035, 0.8266666531562805, 0.8277778029441833, 0.8311111330986023, 0.8322222232818604, 0.8333333134651184, 0.8344444632530212, 0.8355555534362793, 0.8377777934074402, 0.8399999737739563, 0.8411111235618591, 0.8411111235618591, 0.8455555438995361, 0.846666693687439, 0.8488888740539551, 0.851111114025116, 0.8533333539962769, 0.8566666841506958, 0.8588888645172119, 0.8600000143051147, 0.8611111044883728, 0.8622221946716309, 0.8622221946716309, 0.8633333444595337, 0.8633333444595337, 0.8633333444595337, 0.8633333444595337, 0.8644444346427917, 0.8644444346427917, 0.8655555844306946, 0.8666666746139526, 0.8666666746139526, 0.8677777647972107, 0.8700000047683716, 0.8700000047683716, 0.8688889145851135, 0.8688889145851135, 0.8711110949516296, 0.8711110949516296, 0.8722222447395325, 0.8733333349227905, 0.8733333349227905, 0.8755555748939514, 0.8744444251060486, 0.8744444251060486, 0.8744444251060486, 0.8755555748939514], 'loss': [0.7859174903233846, 0.760781479941474, 0.7376135804918077, 0.7157914842499628, 0.6954787344402737, 0.6763795402314928, 0.6584475109312269, 0.6418215396669176, 0.6263509970241122, 0.6118100966347588, 0.5982058350245157, 0.5854131115807427, 0.5734943479961819, 0.562351938088735, 0.5518222946590847, 0.541997889942593, 0.5327421238687303, 0.5239090598954095, 0.5155699866347843, 0.5077683533562555, 0.5004665676752726, 0.4935657776726617, 0.4870164452658759, 0.4807799855868022, 0.47485028160942927, 0.46912263406647575, 0.46376015490955774, 0.4586833482318454, 0.453741192817688, 0.4490406878789266, 0.4445552757051256, 0.44017659491962857, 0.4360053335295783, 0.4320480991072125, 0.4282233455446031, 0.4245173446337382, 0.42093482573827107, 0.41750703308317394, 0.41418431613180373, 0.4109564456012514, 0.40785567018720836, 0.404833017985026, 0.4018872752454546, 0.3990681963496738, 0.39634356843100654, 0.39366168803638885, 0.3910307689507802, 0.3884643395741781, 0.38601838880115086, 0.3835924176375071, 0.38126177165243363, 0.37900220500098336, 0.3767809886402554, 0.3746130139297909, 0.37245217190848456, 0.3704127038849725, 0.3683934375974867, 0.3664043731159634, 0.3644912013080385, 0.36262543678283693, 0.36073327422142026, 0.3589250832133823, 0.3571735909250047, 0.3554571204715305, 0.35376936515172325, 0.352174993885888, 0.35052158302730985, 0.3490175766415066, 0.3474859558211433, 0.3460314738750458, 0.3445128558741675, 0.34308963735898335, 0.34170519749323525, 0.3403446594874064, 0.3390295632680257, 0.33768614689509074, 0.3364240943060981, 0.3351595977942149, 0.3339449856016371, 0.3327814649211036, 0.3316157615184784, 0.33055979477034675, 0.3293653938505385, 0.3283276422818502, 0.3272790100177129, 0.3262512469291687, 0.3252484215630425, 0.32430133508311376, 0.32336108340157405, 0.3224440105756124, 0.32154857211642796, 0.3206437377134959, 0.31978286027908326, 0.3189597521887885, 0.31816251860724554, 0.3173429576555888, 0.3165828479660882, 0.3158736213710573, 0.31514939970440337, 0.3144282003243764], 'accuracy': [0.4422222, 0.45777777, 0.475, 0.4913889, 0.50416666, 0.52055556, 0.53805554, 0.5555556, 0.5733333, 0.58944446, 0.60388887, 0.61333334, 0.62333333, 0.63805556, 0.6488889, 0.6591667, 0.66944444, 0.68222225, 0.6905556, 0.7002778, 0.7063889, 0.7113889, 0.72, 0.7263889, 0.73444444, 0.74, 0.7438889, 0.7463889, 0.74972224, 0.7538889, 0.75972223, 0.7619445, 0.7647222, 0.7675, 0.77, 0.7725, 0.7752778, 0.77694446, 0.77916664, 0.7825, 0.78555554, 0.78694445, 0.79083335, 0.7922222, 0.79444444, 0.79833335, 0.8005555, 0.80222225, 0.8041667, 0.8055556, 0.80722225, 0.8086111, 0.8094444, 0.8105556, 0.8125, 0.8130556, 0.8138889, 0.8155556, 0.81722224, 0.8186111, 0.82, 0.8213889, 0.82277775, 0.82361114, 0.82555556, 0.8263889, 0.82805556, 0.82944447, 0.8302778, 0.83194447, 0.8333333, 0.8338889, 0.8352778, 0.83694446, 0.8383333, 0.8388889, 0.8397222, 0.84, 0.8411111, 0.8425, 0.84305555, 0.84444445, 0.8452778, 0.8461111, 0.8461111, 0.8466667, 0.84833336, 0.8488889, 0.85, 0.85055554, 0.85055554, 0.8511111, 0.85083336, 0.8513889, 0.85194445, 0.85333335, 0.85388887, 0.8525, 0.8536111, 0.855]}\n"
     ]
    },
    {
     "data": {
      "image/png": "[encoded data removed]",
      "text/plain": [
       "<Figure size 432x288 with 1 Axes>"
      ]
     },
     "metadata": {
      "needs_background": "light"
     },
     "output_type": "display_data"
    }
   ],
   "source": [
    "# prepare the data\n",
    "X= np.array(X)\n",
    "Y= np.array(Y)\n",
    "from keras.utils import to_categorical\n",
    "split = int(0.8*X.shape[0])\n",
    "Xtrain=X[:split]\n",
    "Xval= X[split:]\n",
    "\n",
    "Ytrain= Y[:split]\n",
    "Yval= Y[split:]\n",
    "Ytrain= to_categorical(Ytrain)\n",
    "Yval= to_categorical(Yval)\n",
    "h= model.fit(Xtrain, Ytrain, epochs = 100 , validation_data= (Xval, Yval))\n",
    "hist = h.history\n",
    "print(hist)\n",
    "\n",
    "import matplotlib.pyplot as plt\n",
    "plt.plot(hist[\"val_loss\"],label= \"validation loss\")\n",
    "plt.plot(hist[\"loss\"],label= \" loss\")\n",
    "plt.legend()\n",
    "plt.show()\n"
   ]
  },
  {
   "cell_type": "code",
   "execution_count": 35,
   "metadata": {},
   "outputs": [
    {
     "name": "stdout",
     "output_type": "stream",
     "text": [
      "(750, 2) (750, 1)\n"
     ]
    }
   ],
   "source": [
    "Xtest= pd.read_csv(\"./datasets/NeuralNetwork1_X_Test.csv\")\n",
    "Ytest = model.predict(Xtest)\n",
    "print(Xtest.shape, Ytest.shape)"
   ]
  },
  {
   "cell_type": "code",
   "execution_count": 39,
   "metadata": {},
   "outputs": [],
   "source": [
    "Ytest= np.array(Ytest)\n",
    "Ytest[Ytest>=0.5]= int(1)\n",
    "Ytest[Ytest<0.5]= int(0 )\n",
    "Ytest= pd.DataFrame(Ytest)\n",
    "Ytest.columns= [\"label\"]\n",
    "Ytest.to_csv(\"./datasets/result_NeuralNetwork1.csv\", header= True, index= False)\n",
    "# 84% using neural network"
   ]
  },
  {
   "cell_type": "markdown",
   "metadata": {},
   "source": [
    "# Using Logistic Regression"
   ]
  },
  {
   "cell_type": "code",
   "execution_count": 41,
   "metadata": {},
   "outputs": [
    {
     "name": "stderr",
     "output_type": "stream",
     "text": [
      "C:\\Users\\vindyanchal\\Anaconda3\\lib\\site-packages\\sklearn\\linear_model\\logistic.py:433: FutureWarning: Default solver will be changed to 'lbfgs' in 0.22. Specify a solver to silence this warning.\n",
      "  FutureWarning)\n",
      "C:\\Users\\vindyanchal\\Anaconda3\\lib\\site-packages\\sklearn\\utils\\validation.py:761: DataConversionWarning: A column-vector y was passed when a 1d array was expected. Please change the shape of y to (n_samples, ), for example using ravel().\n",
      "  y = column_or_1d(y, warn=True)\n"
     ]
    },
    {
     "data": {
      "text/plain": [
       "0.8675555555555555"
      ]
     },
     "execution_count": 41,
     "metadata": {},
     "output_type": "execute_result"
    }
   ],
   "source": [
    "from sklearn.linear_model import LogisticRegression\n",
    "\n",
    "lr = LogisticRegression()\n",
    "lr.fit(X,Y)\n",
    "lr.score(X,Y)"
   ]
  },
  {
   "cell_type": "code",
   "execution_count": null,
   "metadata": {},
   "outputs": [],
   "source": []
  }
 ],
 "metadata": {
  "kernelspec": {
   "display_name": "Python 3",
   "language": "python",
   "name": "python3"
  },
  "language_info": {
   "codemirror_mode": {
    "name": "ipython",
    "version": 3
   },
   "file_extension": ".py",
   "mimetype": "text/x-python",
   "name": "python",
   "nbconvert_exporter": "python",
   "pygments_lexer": "ipython3",
   "version": "3.7.3"
  }
 },
 "nbformat": 4,
 "nbformat_minor": 2
}
