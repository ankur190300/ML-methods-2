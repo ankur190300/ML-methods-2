{
 "cells": [
  {
   "cell_type": "markdown",
   "metadata": {},
   "source": [
    "# word2vec\n",
    "- google's pretrained model containing 50 billion words stored as vectors\n",
    "- similar words have similar vectors and similarity can be measured using cosine distance\n",
    "- each vector has length of about 300"
   ]
  },
  {
   "cell_type": "markdown",
   "metadata": {},
   "source": [
    "## Applications \n",
    "- text similarity\n",
    "- word analogy \n",
    "- language translation\n",
    "- finding odd words"
   ]
  },
  {
   "cell_type": "markdown",
   "metadata": {},
   "source": [
    "# Word embeddings\n",
    "- numerical representation of words using vectors of length 300\n",
    "- we using pretrained word2vec model\n",
    "- we work with gensim which is the popular NLP package"
   ]
  },
  {
   "cell_type": "markdown",
   "metadata": {},
   "source": [
    "## Here we start the implementation"
   ]
  },
  {
   "cell_type": "markdown",
   "metadata": {},
   "source": [
    "# Choose the odd one out"
   ]
  },
  {
   "cell_type": "code",
   "execution_count": 3,
   "metadata": {},
   "outputs": [],
   "source": [
    "import gensim\n"
   ]
  },
  {
   "cell_type": "code",
   "execution_count": 5,
   "metadata": {},
   "outputs": [],
   "source": [
    "from gensim.models import Word2Vec\n",
    "from gensim.models import KeyedVectors"
   ]
  },
  {
   "cell_type": "code",
   "execution_count": 6,
   "metadata": {},
   "outputs": [],
   "source": [
    "from sklearn.metrics.pairwise import cosine_similarity"
   ]
  },
  {
   "cell_type": "code",
   "execution_count": 8,
   "metadata": {},
   "outputs": [],
   "source": [
    "word_vectors = KeyedVectors.load_word2vec_format(\"../GoogleNews-vectors-negative300.bin/GoogleNews-vectors-negative300.bin\", binary= True) "
   ]
  },
  {
   "cell_type": "code",
   "execution_count": 41,
   "metadata": {},
   "outputs": [],
   "source": [
    "input1= [\"apple\" ,\"orange\", \"party\", \"juice\", \"guava\"];\n",
    "\n",
    "word1 = word_vectors[\"apple\"]\n",
    "word2 = word_vectors[\"orange\"]\n",
    "word3 = word_vectors[\"party\"]\n",
    "word4 = word_vectors[\"guava\"]\n"
   ]
  },
  {
   "cell_type": "code",
   "execution_count": 42,
   "metadata": {},
   "outputs": [
    {
     "name": "stdout",
     "output_type": "stream",
     "text": [
      "[[0.39203462]]\n",
      "[[0.06456922]]\n",
      "[[0.3344945]]\n"
     ]
    }
   ],
   "source": [
    "print(cosine_similarity([word1], [word2]))\n",
    "print(cosine_similarity([word1], [word3]))\n",
    "print(cosine_similarity([word2], [word4]))"
   ]
  },
  {
   "cell_type": "code",
   "execution_count": 43,
   "metadata": {},
   "outputs": [],
   "source": [
    "import numpy as np"
   ]
  },
  {
   "cell_type": "code",
   "execution_count": 78,
   "metadata": {},
   "outputs": [],
   "source": [
    "def odd_one_out(words):\n",
    "    odd_one_out= None ;\n",
    "    all_vectors= [word_vectors[w] for w in words]\n",
    "    mean_vector = np.mean(all_vectors, axis =0 )\n",
    "    min_similarity = 1.0;\n",
    "    for w in words:\n",
    "        sim = cosine_similarity([mean_vector] , [word_vectors[w]])\n",
    "        print(\"for the word %s the similarity is %.2f \"%(w, sim))\n",
    "        if sim < min_similarity:\n",
    "            \n",
    "            min_similarity = sim \n",
    "            odd_one_out = w;\n",
    "    return odd_one_out"
   ]
  },
  {
   "cell_type": "code",
   "execution_count": 79,
   "metadata": {},
   "outputs": [],
   "source": [
    "input2 = [\"sleep\", \"dance\", \"dancer\", \"music\", \"party\"]\n",
    "input3 = [\"russia\" , \"india\", \"paris\", \"germany\", \"france\"]\n"
   ]
  },
  {
   "cell_type": "code",
   "execution_count": 80,
   "metadata": {},
   "outputs": [
    {
     "name": "stdout",
     "output_type": "stream",
     "text": [
      "for the word apple the similarity is 0.76 \n",
      "for the word orange the similarity is 0.67 \n",
      "for the word party the similarity is 0.35 \n",
      "for the word juice the similarity is 0.71 \n",
      "for the word guava the similarity is 0.75 \n"
     ]
    },
    {
     "data": {
      "text/plain": [
       "'party'"
      ]
     },
     "execution_count": 80,
     "metadata": {},
     "output_type": "execute_result"
    }
   ],
   "source": [
    "odd_one_out(input1)"
   ]
  },
  {
   "cell_type": "code",
   "execution_count": 81,
   "metadata": {},
   "outputs": [
    {
     "name": "stdout",
     "output_type": "stream",
     "text": [
      "for the word sleep the similarity is 0.48 \n",
      "for the word dance the similarity is 0.83 \n",
      "for the word dancer the similarity is 0.74 \n",
      "for the word music the similarity is 0.65 \n",
      "for the word party the similarity is 0.42 \n"
     ]
    },
    {
     "data": {
      "text/plain": [
       "'party'"
      ]
     },
     "execution_count": 81,
     "metadata": {},
     "output_type": "execute_result"
    }
   ],
   "source": [
    "odd_one_out(input2)"
   ]
  },
  {
   "cell_type": "code",
   "execution_count": 82,
   "metadata": {},
   "outputs": [
    {
     "name": "stdout",
     "output_type": "stream",
     "text": [
      "for the word russia the similarity is 0.79 \n",
      "for the word india the similarity is 0.81 \n",
      "for the word paris the similarity is 0.75 \n",
      "for the word germany the similarity is 0.84 \n",
      "for the word france the similarity is 0.81 \n"
     ]
    },
    {
     "data": {
      "text/plain": [
       "'paris'"
      ]
     },
     "execution_count": 82,
     "metadata": {},
     "output_type": "execute_result"
    }
   ],
   "source": [
    "odd_one_out(input3)"
   ]
  },
  {
   "cell_type": "code",
   "execution_count": 94,
   "metadata": {},
   "outputs": [
    {
     "name": "stdout",
     "output_type": "stream",
     "text": [
      "for the word USA the similarity is 0.70 \n",
      "for the word rajasthan the similarity is 0.68 \n",
      "for the word gujrat the similarity is 0.61 \n"
     ]
    },
    {
     "data": {
      "text/plain": [
       "'gujrat'"
      ]
     },
     "execution_count": 94,
     "metadata": {},
     "output_type": "execute_result"
    }
   ],
   "source": [
    "input4 = [\"USA\", \"rajasthan\", \"gujrat\"]\n",
    "odd_one_out(input4)"
   ]
  },
  {
   "cell_type": "markdown",
   "metadata": {},
   "source": [
    "# Word analogies\n",
    "- for example man:woman what prince: a , predict a "
   ]
  },
  {
   "cell_type": "code",
   "execution_count": 101,
   "metadata": {},
   "outputs": [],
   "source": [
    "def predict(a , b , c , word_vectors):\n",
    "    a , b , c = a.lower(), b.lower(), c.lower()\n",
    "    \n",
    "    d = None \n",
    "    \n",
    "    similarity = -100\n",
    "    \n",
    "    words = word_vectors.vocab.keys()\n",
    "    wc = word_vectors[c];\n",
    "    rel1 = word_vectors[a]- word_vectors[b]\n",
    "    \n",
    "    #calculating d such that a-b is most similar(cosine_similarity) to c-d\n",
    "    for w in words:\n",
    "        for w in [a, b, c]:\n",
    "            continue\n",
    "        sim= cosine_similarity([rel1], [wc- word_vectors[w]]) \n",
    "        if(sim > similarity ):\n",
    "            similarity = sim\n",
    "            d = w \n",
    "    return d \n"
   ]
  },
  {
   "cell_type": "code",
   "execution_count": 102,
   "metadata": {},
   "outputs": [
    {
     "name": "stdout",
     "output_type": "stream",
     "text": [
      "man woman prince\n"
     ]
    }
   ],
   "source": [
    "triad1 = [\"man\", \"woman\", \"prince\"]\n",
    "predict(*triad1, word_vectors)"
   ]
  },
  {
   "cell_type": "markdown",
   "metadata": {},
   "source": [
    "# Using most similar method"
   ]
  },
  {
   "cell_type": "code",
   "execution_count": 99,
   "metadata": {},
   "outputs": [
    {
     "data": {
      "text/plain": [
       "[('queen', 0.7118192911148071)]"
      ]
     },
     "execution_count": 99,
     "metadata": {},
     "output_type": "execute_result"
    }
   ],
   "source": [
    "word_vectors.most_similar(positive = [\"woman\", \"king\"], negative = [\"man\"] , topn= 1)"
   ]
  },
  {
   "cell_type": "code",
   "execution_count": null,
   "metadata": {},
   "outputs": [],
   "source": []
  }
 ],
 "metadata": {
  "kernelspec": {
   "display_name": "Python 3",
   "language": "python",
   "name": "python3"
  },
  "language_info": {
   "codemirror_mode": {
    "name": "ipython",
    "version": 3
   },
   "file_extension": ".py",
   "mimetype": "text/x-python",
   "name": "python",
   "nbconvert_exporter": "python",
   "pygments_lexer": "ipython3",
   "version": "3.7.3"
  }
 },
 "nbformat": 4,
 "nbformat_minor": 2
}
