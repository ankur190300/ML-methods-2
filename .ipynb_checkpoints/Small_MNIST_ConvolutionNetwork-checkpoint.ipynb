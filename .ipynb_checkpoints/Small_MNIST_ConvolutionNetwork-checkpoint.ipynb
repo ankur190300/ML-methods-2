{
 "cells": [
  {
   "cell_type": "markdown",
   "metadata": {},
   "source": [
    "# Convolutional Neural Network\n",
    "Understanding CNN better"
   ]
  },
  {
   "cell_type": "code",
   "execution_count": 1,
   "metadata": {},
   "outputs": [
    {
     "name": "stderr",
     "output_type": "stream",
     "text": [
      "Using TensorFlow backend.\n"
     ]
    }
   ],
   "source": [
    "from keras.layers import *\n",
    "from keras.models import Sequential"
   ]
  },
  {
   "cell_type": "code",
   "execution_count": 2,
   "metadata": {},
   "outputs": [
    {
     "name": "stdout",
     "output_type": "stream",
     "text": [
      "WARNING:tensorflow:From C:\\Users\\vindyanchal\\Anaconda3\\lib\\site-packages\\tensorflow\\python\\ops\\resource_variable_ops.py:435: colocate_with (from tensorflow.python.framework.ops) is deprecated and will be removed in a future version.\n",
      "Instructions for updating:\n",
      "Colocations handled automatically by placer.\n",
      "Model: \"sequential_1\"\n",
      "_________________________________________________________________\n",
      "Layer (type)                 Output Shape              Param #   \n",
      "=================================================================\n",
      "conv2d_1 (Conv2D)            (None, 26, 26, 32)        320       \n",
      "_________________________________________________________________\n",
      "max_pooling2d_1 (MaxPooling2 (None, 13, 13, 32)        0         \n",
      "_________________________________________________________________\n",
      "conv2d_2 (Conv2D)            (None, 11, 11, 64)        18496     \n",
      "_________________________________________________________________\n",
      "max_pooling2d_2 (MaxPooling2 (None, 5, 5, 64)          0         \n",
      "_________________________________________________________________\n",
      "conv2d_3 (Conv2D)            (None, 3, 3, 64)          36928     \n",
      "_________________________________________________________________\n",
      "flatten_1 (Flatten)          (None, 576)               0         \n",
      "_________________________________________________________________\n",
      "dense_1 (Dense)              (None, 64)                36928     \n",
      "_________________________________________________________________\n",
      "dense_2 (Dense)              (None, 10)                650       \n",
      "=================================================================\n",
      "Total params: 93,322\n",
      "Trainable params: 93,322\n",
      "Non-trainable params: 0\n",
      "_________________________________________________________________\n"
     ]
    }
   ],
   "source": [
    "\n",
    "model= Sequential()\n",
    "model.add(Conv2D(32, (3,3), activation='relu', input_shape=(28,28,1)))\n",
    "model.add(MaxPool2D((2,2)))\n",
    "model.add(Conv2D(64, (3,3), activation='relu'))\n",
    "model.add(MaxPool2D((2,2)))\n",
    "model.add(Conv2D(64, (3,3), activation='relu'))\n",
    "model.add(Flatten())\n",
    "model.add(Dense(64, activation='relu'))\n",
    "model.add(Dense(10, activation='softmax'))\n",
    "model.summary()"
   ]
  },
  {
   "cell_type": "markdown",
   "metadata": {},
   "source": [
    "# Dataset"
   ]
  },
  {
   "cell_type": "code",
   "execution_count": 4,
   "metadata": {},
   "outputs": [],
   "source": [
    "from keras.utils import to_categorical\n",
    "from keras.datasets import mnist"
   ]
  },
  {
   "cell_type": "code",
   "execution_count": 5,
   "metadata": {},
   "outputs": [],
   "source": [
    "(Xtrain, Ytrain),(Xtest,Ytest) = mnist.load_data()\n"
   ]
  },
  {
   "cell_type": "code",
   "execution_count": 6,
   "metadata": {},
   "outputs": [
    {
     "name": "stdout",
     "output_type": "stream",
     "text": [
      "(60000, 28, 28) (60000,)\n",
      "(10000, 28, 28) (10000,)\n",
      "(60000, 28, 28, 1) (60000, 10)\n",
      "(10000, 28, 28, 1) (10000, 10)\n"
     ]
    }
   ],
   "source": [
    "print(Xtrain.shape,Ytrain.shape)\n",
    "print(Xtest.shape,Ytest.shape)\n",
    "\n",
    "def preprocessing(X,Y):\n",
    "    X= X.reshape((-1,28,28,1))\n",
    "    X= X/255.0\n",
    "    Y= to_categorical(Y)\n",
    "    return X,Y\n",
    "Xtrain,Ytrain=preprocessing(Xtrain,Ytrain)\n",
    "print(Xtrain.shape,Ytrain.shape)\n",
    "Xtest,Ytest=preprocessing(Xtest,Ytest)\n",
    "print(Xtest.shape,Ytest.shape)\n"
   ]
  },
  {
   "cell_type": "code",
   "execution_count": 7,
   "metadata": {},
   "outputs": [
    {
     "name": "stdout",
     "output_type": "stream",
     "text": [
      "WARNING:tensorflow:From C:\\Users\\vindyanchal\\Anaconda3\\lib\\site-packages\\tensorflow\\python\\ops\\math_ops.py:3066: to_int32 (from tensorflow.python.ops.math_ops) is deprecated and will be removed in a future version.\n",
      "Instructions for updating:\n",
      "Use tf.cast instead.\n",
      "Train on 54000 samples, validate on 6000 samples\n",
      "Epoch 1/20\n",
      "54000/54000 [==============================] - 11s 211us/step - loss: 0.3767 - accuracy: 0.8874 - val_loss: 0.0855 - val_accuracy: 0.9750\n",
      "Epoch 2/20\n",
      "54000/54000 [==============================] - 8s 142us/step - loss: 0.0816 - accuracy: 0.9750 - val_loss: 0.0600 - val_accuracy: 0.9823\n",
      "Epoch 3/20\n",
      "54000/54000 [==============================] - 8s 144us/step - loss: 0.0529 - accuracy: 0.9836 - val_loss: 0.0459 - val_accuracy: 0.9860\n",
      "Epoch 4/20\n",
      "54000/54000 [==============================] - 8s 144us/step - loss: 0.0453 - accuracy: 0.9857 - val_loss: 0.0469 - val_accuracy: 0.9852\n",
      "Epoch 5/20\n",
      "54000/54000 [==============================] - 8s 143us/step - loss: 0.0341 - accuracy: 0.9891 - val_loss: 0.0399 - val_accuracy: 0.9875\n",
      "Epoch 6/20\n",
      "54000/54000 [==============================] - 8s 143us/step - loss: 0.0275 - accuracy: 0.9913 - val_loss: 0.0341 - val_accuracy: 0.9905\n",
      "Epoch 7/20\n",
      "54000/54000 [==============================] - 8s 145us/step - loss: 0.0238 - accuracy: 0.9925 - val_loss: 0.0360 - val_accuracy: 0.9895\n",
      "Epoch 8/20\n",
      "54000/54000 [==============================] - 8s 144us/step - loss: 0.0227 - accuracy: 0.9931 - val_loss: 0.0398 - val_accuracy: 0.9883\n",
      "Epoch 9/20\n",
      "54000/54000 [==============================] - 8s 143us/step - loss: 0.0174 - accuracy: 0.9943 - val_loss: 0.0424 - val_accuracy: 0.9902\n",
      "Epoch 10/20\n",
      "54000/54000 [==============================] - 8s 145us/step - loss: 0.0170 - accuracy: 0.9946 - val_loss: 0.0339 - val_accuracy: 0.9917\n",
      "Epoch 11/20\n",
      "54000/54000 [==============================] - 8s 143us/step - loss: 0.0135 - accuracy: 0.9956 - val_loss: 0.0355 - val_accuracy: 0.9900\n",
      "Epoch 12/20\n",
      "54000/54000 [==============================] - 8s 142us/step - loss: 0.0115 - accuracy: 0.9963 - val_loss: 0.0330 - val_accuracy: 0.9913\n",
      "Epoch 13/20\n",
      "54000/54000 [==============================] - 8s 142us/step - loss: 0.0104 - accuracy: 0.9967 - val_loss: 0.0326 - val_accuracy: 0.9912\n",
      "Epoch 14/20\n",
      "54000/54000 [==============================] - 8s 143us/step - loss: 0.0101 - accuracy: 0.9963 - val_loss: 0.0350 - val_accuracy: 0.9910\n",
      "Epoch 15/20\n",
      "54000/54000 [==============================] - 9s 158us/step - loss: 0.0107 - accuracy: 0.9965 - val_loss: 0.0328 - val_accuracy: 0.9917\n",
      "Epoch 16/20\n",
      "54000/54000 [==============================] - 8s 153us/step - loss: 0.0084 - accuracy: 0.9971 - val_loss: 0.0465 - val_accuracy: 0.9878\n",
      "Epoch 17/20\n",
      "54000/54000 [==============================] - 8s 142us/step - loss: 0.0061 - accuracy: 0.9978 - val_loss: 0.0316 - val_accuracy: 0.9917\n",
      "Epoch 18/20\n",
      "54000/54000 [==============================] - 8s 146us/step - loss: 0.0064 - accuracy: 0.9979 - val_loss: 0.0355 - val_accuracy: 0.9913\n",
      "Epoch 19/20\n",
      "54000/54000 [==============================] - 7s 132us/step - loss: 0.0051 - accuracy: 0.9984 - val_loss: 0.0338 - val_accuracy: 0.9918\n",
      "Epoch 20/20\n",
      "54000/54000 [==============================] - 7s 132us/step - loss: 0.0074 - accuracy: 0.9974 - val_loss: 0.0441 - val_accuracy: 0.9883\n"
     ]
    }
   ],
   "source": [
    "model.compile(optimizer='adam', loss='categorical_crossentropy', metrics=['accuracy'])\n",
    "hist= model.fit(Xtrain,Ytrain, batch_size=256,epochs=20, validation_split=0.1)"
   ]
  },
  {
   "cell_type": "code",
   "execution_count": 13,
   "metadata": {},
   "outputs": [
    {
     "data": {
      "text/plain": [
       "Text(0, 0.5, 'loss')"
      ]
     },
     "execution_count": 13,
     "metadata": {},
     "output_type": "execute_result"
    },
    {
     "data": {
      "image/png": "[encoded data removed]",
      "text/plain": [
       "<Figure size 576x396 with 1 Axes>"
      ]
     },
     "metadata": {},
     "output_type": "display_data"
    }
   ],
   "source": [
    "h= hist.history\n",
    "import matplotlib.pyplot as plt\n",
    "plt.plot(h['val_loss'], label='validation-loss')\n",
    "plt.plot(h['loss'], label='training-loss')\n",
    "plt.legend()\n",
    "plt.style.use('seaborn')\n",
    "plt.xlabel('epoch')\n",
    "plt.ylabel('loss')"
   ]
  },
  {
   "cell_type": "code",
   "execution_count": 14,
   "metadata": {},
   "outputs": [
    {
     "data": {
      "text/plain": [
       "Text(0, 0.5, 'loss')"
      ]
     },
     "execution_count": 14,
     "metadata": {},
     "output_type": "execute_result"
    },
    {
     "data": {
      "image/png": "[encoded data removed]",
      "text/plain": [
       "<Figure size 576x396 with 1 Axes>"
      ]
     },
     "metadata": {},
     "output_type": "display_data"
    }
   ],
   "source": [
    "h= hist.history\n",
    "import matplotlib.pyplot as plt\n",
    "plt.plot(h['val_accuracy'], label='validation-accuracy')\n",
    "plt.plot(h['accuracy'], label='training-accuracy')\n",
    "plt.legend()\n",
    "plt.style.use('seaborn')\n",
    "plt.xlabel('epoch')\n",
    "plt.ylabel('loss')"
   ]
  },
  {
   "cell_type": "code",
   "execution_count": 15,
   "metadata": {},
   "outputs": [
    {
     "name": "stdout",
     "output_type": "stream",
     "text": [
      "[0.8874074, 0.9750185, 0.98359257, 0.98572224, 0.9891111, 0.9913148, 0.992463, 0.99314815, 0.99425924, 0.9945926, 0.9956296, 0.9962593, 0.9967037, 0.99627775, 0.996537, 0.9970926, 0.9978333, 0.9978704, 0.99844444, 0.9974259]\n"
     ]
    }
   ],
   "source": [
    "print(h['accuracy'])"
   ]
  },
  {
   "cell_type": "code",
   "execution_count": 26,
   "metadata": {},
   "outputs": [
    {
     "name": "stdout",
     "output_type": "stream",
     "text": [
      "(10000, 10)\n",
      "(10000,)\n",
      "98.9\n"
     ]
    }
   ],
   "source": [
    "import numpy as np\n",
    "Y_=model.predict(Xtest)\n",
    "print(Y_.shape)\n",
    "Y_= np.argmax(Y_,axis=1)\n",
    "print(Y_.shape)\n",
    "Y_= to_categorical(Y_)\n",
    "accuracy=np.sum((Ytest==Y_),axis=1)\n",
    "accuracy=(np.sum((accuracy==10))/Ytest.shape[0])*100\n",
    "print(accuracy)"
   ]
  },
  {
   "cell_type": "code",
   "execution_count": null,
   "metadata": {},
   "outputs": [],
   "source": []
  }
 ],
 "metadata": {
  "kernelspec": {
   "display_name": "Python 3",
   "language": "python",
   "name": "python3"
  },
  "language_info": {
   "codemirror_mode": {
    "name": "ipython",
    "version": 3
   },
   "file_extension": ".py",
   "mimetype": "text/x-python",
   "name": "python",
   "nbconvert_exporter": "python",
   "pygments_lexer": "ipython3",
   "version": "3.7.3"
  }
 },
 "nbformat": 4,
 "nbformat_minor": 2
}
