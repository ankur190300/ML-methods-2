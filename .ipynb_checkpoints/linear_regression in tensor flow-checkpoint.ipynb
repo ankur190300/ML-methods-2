{
 "cells": [
  {
   "cell_type": "markdown",
   "metadata": {},
   "source": [
    "# Data preprocessing "
   ]
  },
  {
   "cell_type": "code",
   "execution_count": 1,
   "metadata": {},
   "outputs": [
    {
     "name": "stderr",
     "output_type": "stream",
     "text": [
      "C:\\Users\\vindyanchal\\Anaconda3\\lib\\importlib\\_bootstrap.py:219: RuntimeWarning: numpy.ufunc size changed, may indicate binary incompatibility. Expected 192 from C header, got 216 from PyObject\n",
      "  return f(*args, **kwds)\n",
      "C:\\Users\\vindyanchal\\Anaconda3\\lib\\importlib\\_bootstrap.py:219: RuntimeWarning: numpy.ufunc size changed, may indicate binary incompatibility. Expected 192 from C header, got 216 from PyObject\n",
      "  return f(*args, **kwds)\n"
     ]
    }
   ],
   "source": [
    "import numpy as np\n",
    "from sklearn.datasets import load_boston\n",
    "import tensorflow as tf\n"
   ]
  },
  {
   "cell_type": "code",
   "execution_count": 28,
   "metadata": {},
   "outputs": [],
   "source": [
    "boston =load_boston()"
   ]
  },
  {
   "cell_type": "code",
   "execution_count": 29,
   "metadata": {},
   "outputs": [],
   "source": [
    "data, target = (boston.data, boston.target)"
   ]
  },
  {
   "cell_type": "code",
   "execution_count": 30,
   "metadata": {},
   "outputs": [
    {
     "name": "stdout",
     "output_type": "stream",
     "text": [
      "(506, 13)\n",
      "<class 'numpy.ndarray'>\n",
      "(506,)\n",
      "<class 'numpy.ndarray'>\n"
     ]
    }
   ],
   "source": [
    "print(data.shape)\n",
    "print(type(data))\n",
    "print(target.shape)\n",
    "print(type(target))\n",
    "features = data\n"
   ]
  },
  {
   "cell_type": "code",
   "execution_count": 31,
   "metadata": {},
   "outputs": [
    {
     "name": "stdout",
     "output_type": "stream",
     "text": [
      "(506, 1)\n"
     ]
    }
   ],
   "source": [
    "target = np.reshape(target , (-1, 1))\n",
    "print(target.shape)\n",
    "labels = target"
   ]
  },
  {
   "cell_type": "code",
   "execution_count": 32,
   "metadata": {},
   "outputs": [],
   "source": [
    "# normalization of data\n",
    "def normalize(data):\n",
    "    m = np.mean(data)\n",
    "    d= np.std(data)\n",
    "    normalized_data= (data-m)/d\n",
    "    return normalized_data\n"
   ]
  },
  {
   "cell_type": "code",
   "execution_count": 33,
   "metadata": {},
   "outputs": [],
   "source": [
    "features = normalize(features)\n",
    "labels = normalize (labels)"
   ]
  },
  {
   "cell_type": "code",
   "execution_count": 34,
   "metadata": {},
   "outputs": [
    {
     "name": "stdout",
     "output_type": "stream",
     "text": [
      "(506, 13)\n",
      "(506, 1)\n"
     ]
    }
   ],
   "source": [
    "print(features.shape)\n",
    "print(labels.shape)"
   ]
  },
  {
   "cell_type": "code",
   "execution_count": 35,
   "metadata": {},
   "outputs": [
    {
     "name": "stdout",
     "output_type": "stream",
     "text": [
      "[-0.48270736 -0.35874599 -0.46683694 -0.4827509  -0.47904453 -0.43745466\n",
      " -0.03357755 -0.45457423 -0.47586174  1.55644101 -0.37734672  2.25155744\n",
      " -0.44844287]\n"
     ]
    }
   ],
   "source": [
    "print(features[0])"
   ]
  },
  {
   "cell_type": "code",
   "execution_count": 36,
   "metadata": {},
   "outputs": [
    {
     "name": "stdout",
     "output_type": "stream",
     "text": [
      "(506, 1)\n",
      "(506, 14)\n"
     ]
    }
   ],
   "source": [
    "bias = np.ones((features.shape[0], 1))\n",
    "print(bias.shape)\n",
    "features= np.concatenate((bias , features), axis = 1)\n",
    "print(features.shape)"
   ]
  },
  {
   "cell_type": "code",
   "execution_count": 37,
   "metadata": {},
   "outputs": [
    {
     "name": "stdout",
     "output_type": "stream",
     "text": [
      "[ 1.         -0.48270736 -0.35874599 -0.46683694 -0.4827509  -0.47904453\n",
      " -0.43745466 -0.03357755 -0.45457423 -0.47586174  1.55644101 -0.37734672\n",
      "  2.25155744 -0.44844287]\n"
     ]
    }
   ],
   "source": [
    "print(features[0])"
   ]
  },
  {
   "cell_type": "code",
   "execution_count": 38,
   "metadata": {},
   "outputs": [
    {
     "name": "stderr",
     "output_type": "stream",
     "text": [
      "C:\\Users\\vindyanchal\\Anaconda3\\lib\\importlib\\_bootstrap.py:219: RuntimeWarning: numpy.ufunc size changed, may indicate binary incompatibility. Expected 192 from C header, got 216 from PyObject\n",
      "  return f(*args, **kwds)\n"
     ]
    }
   ],
   "source": [
    "from sklearn.model_selection import train_test_split"
   ]
  },
  {
   "cell_type": "code",
   "execution_count": 43,
   "metadata": {},
   "outputs": [],
   "source": [
    "X_train , X_test, Y_train , Y_test= train_test_split(features, labels, test_size = 0.2)"
   ]
  },
  {
   "cell_type": "code",
   "execution_count": 54,
   "metadata": {},
   "outputs": [
    {
     "name": "stdout",
     "output_type": "stream",
     "text": [
      "(404, 14)\n",
      "(404, 1)\n"
     ]
    }
   ],
   "source": [
    "print(X_train.shape)\n",
    "print(Y_train.shape)"
   ]
  },
  {
   "cell_type": "markdown",
   "metadata": {},
   "source": [
    "# Model"
   ]
  },
  {
   "cell_type": "code",
   "execution_count": 44,
   "metadata": {},
   "outputs": [],
   "source": [
    "n_samples = features.shape[0]\n",
    "n_features = features.shape[1]\n",
    "num_epochs = 20"
   ]
  },
  {
   "cell_type": "code",
   "execution_count": 45,
   "metadata": {},
   "outputs": [],
   "source": [
    "X = tf.placeholder( dtype=tf.float32, shape=[None, n_features] )\n",
    "Y = tf.placeholder( dtype=tf.float32, shape=[None,1] )\n",
    "# placeholders can change their values "
   ]
  },
  {
   "cell_type": "code",
   "execution_count": 46,
   "metadata": {},
   "outputs": [
    {
     "name": "stdout",
     "output_type": "stream",
     "text": [
      "<tf.Variable 'Variable:0' shape=(14, 1) dtype=float32_ref>\n"
     ]
    }
   ],
   "source": [
    "W = tf.Variable( tf.random_normal( shape=(n_features,1) ) ) # global variable\n",
    "print (W)"
   ]
  },
  {
   "cell_type": "code",
   "execution_count": 47,
   "metadata": {},
   "outputs": [],
   "source": [
    "y_pred = tf.matmul(X, W)"
   ]
  },
  {
   "cell_type": "code",
   "execution_count": 48,
   "metadata": {},
   "outputs": [],
   "source": [
    "cost = tf.reduce_mean( tf.square( y_pred - Y ) )"
   ]
  },
  {
   "cell_type": "code",
   "execution_count": 49,
   "metadata": {},
   "outputs": [],
   "source": [
    "opt = tf.train.GradientDescentOptimizer(learning_rate=0.01).minimize(cost)"
   ]
  },
  {
   "cell_type": "code",
   "execution_count": 52,
   "metadata": {},
   "outputs": [
    {
     "name": "stdout",
     "output_type": "stream",
     "text": [
      "Epoch 1\n",
      "\n",
      "Training loss is 6.0149 and Testing loss is 4.7972\n",
      "---------\n",
      "Epoch 2\n",
      "\n",
      "Training loss is 3.8706 and Testing loss is 3.0264\n",
      "---------\n",
      "Epoch 3\n",
      "\n",
      "Training loss is 2.6795 and Testing loss is 2.0965\n",
      "---------\n",
      "Epoch 4\n",
      "\n",
      "Training loss is 2.0164 and Testing loss is 1.6188\n",
      "---------\n",
      "Epoch 5\n",
      "\n",
      "Training loss is 1.6460 and Testing loss is 1.3819\n",
      "---------\n",
      "Epoch 6\n",
      "\n",
      "Training loss is 1.4377 and Testing loss is 1.2710\n",
      "---------\n",
      "Epoch 7\n",
      "\n",
      "Training loss is 1.3193 and Testing loss is 1.2244\n",
      "---------\n",
      "Epoch 8\n",
      "\n",
      "Training loss is 1.2508 and Testing loss is 1.2095\n",
      "---------\n",
      "Epoch 9\n",
      "\n",
      "Training loss is 1.2101 and Testing loss is 1.2092\n",
      "---------\n",
      "Epoch 10\n",
      "\n",
      "Training loss is 1.1848 and Testing loss is 1.2147\n",
      "---------\n",
      "Epoch 11\n",
      "\n",
      "Training loss is 1.1682 and Testing loss is 1.2219\n",
      "---------\n",
      "Epoch 12\n",
      "\n",
      "Training loss is 1.1565 and Testing loss is 1.2288\n",
      "---------\n",
      "Epoch 13\n",
      "\n",
      "Training loss is 1.1476 and Testing loss is 1.2347\n",
      "---------\n",
      "Epoch 14\n",
      "\n",
      "Training loss is 1.1403 and Testing loss is 1.2393\n",
      "---------\n",
      "Epoch 15\n",
      "\n",
      "Training loss is 1.1340 and Testing loss is 1.2428\n",
      "---------\n",
      "Epoch 16\n",
      "\n",
      "Training loss is 1.1283 and Testing loss is 1.2454\n",
      "---------\n",
      "Epoch 17\n",
      "\n",
      "Training loss is 1.1231 and Testing loss is 1.2471\n",
      "---------\n",
      "Epoch 18\n",
      "\n",
      "Training loss is 1.1181 and Testing loss is 1.2483\n",
      "---------\n",
      "Epoch 19\n",
      "\n",
      "Training loss is 1.1134 and Testing loss is 1.2490\n",
      "---------\n",
      "Epoch 20\n",
      "\n",
      "Training loss is 1.1088 and Testing loss is 1.2494\n",
      "---------\n"
     ]
    }
   ],
   "source": [
    "with tf.Session() as sess:\n",
    "    sess.run( tf.global_variables_initializer() ) # to initialize global variables like W\n",
    "    for epoch in range(num_epochs):\n",
    "        sess.run( opt, feed_dict = {\n",
    "            X: X_train,\n",
    "            Y: Y_train\n",
    "        } )\n",
    "        \n",
    "        train_loss = sess.run( cost, feed_dict = {\n",
    "            X: X_train,\n",
    "            Y: Y_train\n",
    "        } )\n",
    "        \n",
    "        test_loss = sess.run( cost, feed_dict = {\n",
    "            X: X_test,\n",
    "            Y: Y_test\n",
    "        } )\n",
    "        \n",
    "        print ( \"Epoch {}\\n\".format(epoch + 1) )\n",
    "        print (\"Training loss is {:.04f} and Testing loss is {:.04f}\".format( train_loss, test_loss ))\n",
    "        print (\"---------\")\n",
    "  "
   ]
  },
  {
   "cell_type": "code",
   "execution_count": null,
   "metadata": {},
   "outputs": [],
   "source": []
  }
 ],
 "metadata": {
  "kernelspec": {
   "display_name": "Python 3",
   "language": "python",
   "name": "python3"
  },
  "language_info": {
   "codemirror_mode": {
    "name": "ipython",
    "version": 3
   },
   "file_extension": ".py",
   "mimetype": "text/x-python",
   "name": "python",
   "nbconvert_exporter": "python",
   "pygments_lexer": "ipython3",
   "version": "3.7.3"
  }
 },
 "nbformat": 4,
 "nbformat_minor": 2
}
