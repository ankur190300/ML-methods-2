{
 "cells": [
  {
   "cell_type": "markdown",
   "metadata": {},
   "source": [
    "# Decision trees\n",
    "Problem: Titanic survival prediction challenge"
   ]
  },
  {
   "cell_type": "markdown",
   "metadata": {},
   "source": [
    "# Learning Goals \n",
    "- How to pre-process the data<br>\n",
    "<ol> <li> Dropping the non-useful features </li>\n",
    "    <li> Filling the missing values(Data imputation)</li>\n",
    "    </ol>\n",
    "- Creating a binary tree from scratch\n",
    "        \n"
   ]
  },
  {
   "cell_type": "code",
   "execution_count": 178,
   "metadata": {},
   "outputs": [
    {
     "data": {
      "text/html": [
       "<div>\n",
       "<style scoped>\n",
       "    .dataframe tbody tr th:only-of-type {\n",
       "        vertical-align: middle;\n",
       "    }\n",
       "\n",
       "    .dataframe tbody tr th {\n",
       "        vertical-align: top;\n",
       "    }\n",
       "\n",
       "    .dataframe thead th {\n",
       "        text-align: right;\n",
       "    }\n",
       "</style>\n",
       "<table border=\"1\" class=\"dataframe\">\n",
       "  <thead>\n",
       "    <tr style=\"text-align: right;\">\n",
       "      <th></th>\n",
       "      <th>PassengerId</th>\n",
       "      <th>Survived</th>\n",
       "      <th>Pclass</th>\n",
       "      <th>Name</th>\n",
       "      <th>Sex</th>\n",
       "      <th>Age</th>\n",
       "      <th>SibSp</th>\n",
       "      <th>Parch</th>\n",
       "      <th>Ticket</th>\n",
       "      <th>Fare</th>\n",
       "      <th>Cabin</th>\n",
       "      <th>Embarked</th>\n",
       "    </tr>\n",
       "  </thead>\n",
       "  <tbody>\n",
       "    <tr>\n",
       "      <th>0</th>\n",
       "      <td>1</td>\n",
       "      <td>0</td>\n",
       "      <td>3</td>\n",
       "      <td>Braund, Mr. Owen Harris</td>\n",
       "      <td>male</td>\n",
       "      <td>22.0</td>\n",
       "      <td>1</td>\n",
       "      <td>0</td>\n",
       "      <td>A/5 21171</td>\n",
       "      <td>7.2500</td>\n",
       "      <td>NaN</td>\n",
       "      <td>S</td>\n",
       "    </tr>\n",
       "    <tr>\n",
       "      <th>1</th>\n",
       "      <td>2</td>\n",
       "      <td>1</td>\n",
       "      <td>1</td>\n",
       "      <td>Cumings, Mrs. John Bradley (Florence Briggs Th...</td>\n",
       "      <td>female</td>\n",
       "      <td>38.0</td>\n",
       "      <td>1</td>\n",
       "      <td>0</td>\n",
       "      <td>PC 17599</td>\n",
       "      <td>71.2833</td>\n",
       "      <td>C85</td>\n",
       "      <td>C</td>\n",
       "    </tr>\n",
       "    <tr>\n",
       "      <th>2</th>\n",
       "      <td>3</td>\n",
       "      <td>1</td>\n",
       "      <td>3</td>\n",
       "      <td>Heikkinen, Miss. Laina</td>\n",
       "      <td>female</td>\n",
       "      <td>26.0</td>\n",
       "      <td>0</td>\n",
       "      <td>0</td>\n",
       "      <td>STON/O2. 3101282</td>\n",
       "      <td>7.9250</td>\n",
       "      <td>NaN</td>\n",
       "      <td>S</td>\n",
       "    </tr>\n",
       "    <tr>\n",
       "      <th>3</th>\n",
       "      <td>4</td>\n",
       "      <td>1</td>\n",
       "      <td>1</td>\n",
       "      <td>Futrelle, Mrs. Jacques Heath (Lily May Peel)</td>\n",
       "      <td>female</td>\n",
       "      <td>35.0</td>\n",
       "      <td>1</td>\n",
       "      <td>0</td>\n",
       "      <td>113803</td>\n",
       "      <td>53.1000</td>\n",
       "      <td>C123</td>\n",
       "      <td>S</td>\n",
       "    </tr>\n",
       "    <tr>\n",
       "      <th>4</th>\n",
       "      <td>5</td>\n",
       "      <td>0</td>\n",
       "      <td>3</td>\n",
       "      <td>Allen, Mr. William Henry</td>\n",
       "      <td>male</td>\n",
       "      <td>35.0</td>\n",
       "      <td>0</td>\n",
       "      <td>0</td>\n",
       "      <td>373450</td>\n",
       "      <td>8.0500</td>\n",
       "      <td>NaN</td>\n",
       "      <td>S</td>\n",
       "    </tr>\n",
       "    <tr>\n",
       "      <th>5</th>\n",
       "      <td>6</td>\n",
       "      <td>0</td>\n",
       "      <td>3</td>\n",
       "      <td>Moran, Mr. James</td>\n",
       "      <td>male</td>\n",
       "      <td>NaN</td>\n",
       "      <td>0</td>\n",
       "      <td>0</td>\n",
       "      <td>330877</td>\n",
       "      <td>8.4583</td>\n",
       "      <td>NaN</td>\n",
       "      <td>Q</td>\n",
       "    </tr>\n",
       "    <tr>\n",
       "      <th>6</th>\n",
       "      <td>7</td>\n",
       "      <td>0</td>\n",
       "      <td>1</td>\n",
       "      <td>McCarthy, Mr. Timothy J</td>\n",
       "      <td>male</td>\n",
       "      <td>54.0</td>\n",
       "      <td>0</td>\n",
       "      <td>0</td>\n",
       "      <td>17463</td>\n",
       "      <td>51.8625</td>\n",
       "      <td>E46</td>\n",
       "      <td>S</td>\n",
       "    </tr>\n",
       "    <tr>\n",
       "      <th>7</th>\n",
       "      <td>8</td>\n",
       "      <td>0</td>\n",
       "      <td>3</td>\n",
       "      <td>Palsson, Master. Gosta Leonard</td>\n",
       "      <td>male</td>\n",
       "      <td>2.0</td>\n",
       "      <td>3</td>\n",
       "      <td>1</td>\n",
       "      <td>349909</td>\n",
       "      <td>21.0750</td>\n",
       "      <td>NaN</td>\n",
       "      <td>S</td>\n",
       "    </tr>\n",
       "    <tr>\n",
       "      <th>8</th>\n",
       "      <td>9</td>\n",
       "      <td>1</td>\n",
       "      <td>3</td>\n",
       "      <td>Johnson, Mrs. Oscar W (Elisabeth Vilhelmina Berg)</td>\n",
       "      <td>female</td>\n",
       "      <td>27.0</td>\n",
       "      <td>0</td>\n",
       "      <td>2</td>\n",
       "      <td>347742</td>\n",
       "      <td>11.1333</td>\n",
       "      <td>NaN</td>\n",
       "      <td>S</td>\n",
       "    </tr>\n",
       "    <tr>\n",
       "      <th>9</th>\n",
       "      <td>10</td>\n",
       "      <td>1</td>\n",
       "      <td>2</td>\n",
       "      <td>Nasser, Mrs. Nicholas (Adele Achem)</td>\n",
       "      <td>female</td>\n",
       "      <td>14.0</td>\n",
       "      <td>1</td>\n",
       "      <td>0</td>\n",
       "      <td>237736</td>\n",
       "      <td>30.0708</td>\n",
       "      <td>NaN</td>\n",
       "      <td>C</td>\n",
       "    </tr>\n",
       "  </tbody>\n",
       "</table>\n",
       "</div>"
      ],
      "text/plain": [
       "   PassengerId  Survived  Pclass  \\\n",
       "0            1         0       3   \n",
       "1            2         1       1   \n",
       "2            3         1       3   \n",
       "3            4         1       1   \n",
       "4            5         0       3   \n",
       "5            6         0       3   \n",
       "6            7         0       1   \n",
       "7            8         0       3   \n",
       "8            9         1       3   \n",
       "9           10         1       2   \n",
       "\n",
       "                                                Name     Sex   Age  SibSp  \\\n",
       "0                            Braund, Mr. Owen Harris    male  22.0      1   \n",
       "1  Cumings, Mrs. John Bradley (Florence Briggs Th...  female  38.0      1   \n",
       "2                             Heikkinen, Miss. Laina  female  26.0      0   \n",
       "3       Futrelle, Mrs. Jacques Heath (Lily May Peel)  female  35.0      1   \n",
       "4                           Allen, Mr. William Henry    male  35.0      0   \n",
       "5                                   Moran, Mr. James    male   NaN      0   \n",
       "6                            McCarthy, Mr. Timothy J    male  54.0      0   \n",
       "7                     Palsson, Master. Gosta Leonard    male   2.0      3   \n",
       "8  Johnson, Mrs. Oscar W (Elisabeth Vilhelmina Berg)  female  27.0      0   \n",
       "9                Nasser, Mrs. Nicholas (Adele Achem)  female  14.0      1   \n",
       "\n",
       "   Parch            Ticket     Fare Cabin Embarked  \n",
       "0      0         A/5 21171   7.2500   NaN        S  \n",
       "1      0          PC 17599  71.2833   C85        C  \n",
       "2      0  STON/O2. 3101282   7.9250   NaN        S  \n",
       "3      0            113803  53.1000  C123        S  \n",
       "4      0            373450   8.0500   NaN        S  \n",
       "5      0            330877   8.4583   NaN        Q  \n",
       "6      0             17463  51.8625   E46        S  \n",
       "7      1            349909  21.0750   NaN        S  \n",
       "8      2            347742  11.1333   NaN        S  \n",
       "9      0            237736  30.0708   NaN        C  "
      ]
     },
     "execution_count": 178,
     "metadata": {},
     "output_type": "execute_result"
    }
   ],
   "source": [
    "import numpy as np \n",
    "import pandas as pd\n",
    "\n",
    "data = pd.read_csv(\"./datasets/train_decisiontree.csv\")\n",
    "\n",
    "data.head(n=10)\n"
   ]
  },
  {
   "cell_type": "code",
   "execution_count": 179,
   "metadata": {},
   "outputs": [
    {
     "data": {
      "text/html": [
       "<div>\n",
       "<style scoped>\n",
       "    .dataframe tbody tr th:only-of-type {\n",
       "        vertical-align: middle;\n",
       "    }\n",
       "\n",
       "    .dataframe tbody tr th {\n",
       "        vertical-align: top;\n",
       "    }\n",
       "\n",
       "    .dataframe thead th {\n",
       "        text-align: right;\n",
       "    }\n",
       "</style>\n",
       "<table border=\"1\" class=\"dataframe\">\n",
       "  <thead>\n",
       "    <tr style=\"text-align: right;\">\n",
       "      <th></th>\n",
       "      <th>Survived</th>\n",
       "      <th>Pclass</th>\n",
       "      <th>Sex</th>\n",
       "      <th>Age</th>\n",
       "      <th>SibSp</th>\n",
       "      <th>Parch</th>\n",
       "      <th>Fare</th>\n",
       "    </tr>\n",
       "  </thead>\n",
       "  <tbody>\n",
       "    <tr>\n",
       "      <th>0</th>\n",
       "      <td>0</td>\n",
       "      <td>3</td>\n",
       "      <td>male</td>\n",
       "      <td>22.0</td>\n",
       "      <td>1</td>\n",
       "      <td>0</td>\n",
       "      <td>7.2500</td>\n",
       "    </tr>\n",
       "    <tr>\n",
       "      <th>1</th>\n",
       "      <td>1</td>\n",
       "      <td>1</td>\n",
       "      <td>female</td>\n",
       "      <td>38.0</td>\n",
       "      <td>1</td>\n",
       "      <td>0</td>\n",
       "      <td>71.2833</td>\n",
       "    </tr>\n",
       "    <tr>\n",
       "      <th>2</th>\n",
       "      <td>1</td>\n",
       "      <td>3</td>\n",
       "      <td>female</td>\n",
       "      <td>26.0</td>\n",
       "      <td>0</td>\n",
       "      <td>0</td>\n",
       "      <td>7.9250</td>\n",
       "    </tr>\n",
       "    <tr>\n",
       "      <th>3</th>\n",
       "      <td>1</td>\n",
       "      <td>1</td>\n",
       "      <td>female</td>\n",
       "      <td>35.0</td>\n",
       "      <td>1</td>\n",
       "      <td>0</td>\n",
       "      <td>53.1000</td>\n",
       "    </tr>\n",
       "    <tr>\n",
       "      <th>4</th>\n",
       "      <td>0</td>\n",
       "      <td>3</td>\n",
       "      <td>male</td>\n",
       "      <td>35.0</td>\n",
       "      <td>0</td>\n",
       "      <td>0</td>\n",
       "      <td>8.0500</td>\n",
       "    </tr>\n",
       "    <tr>\n",
       "      <th>5</th>\n",
       "      <td>0</td>\n",
       "      <td>3</td>\n",
       "      <td>male</td>\n",
       "      <td>NaN</td>\n",
       "      <td>0</td>\n",
       "      <td>0</td>\n",
       "      <td>8.4583</td>\n",
       "    </tr>\n",
       "    <tr>\n",
       "      <th>6</th>\n",
       "      <td>0</td>\n",
       "      <td>1</td>\n",
       "      <td>male</td>\n",
       "      <td>54.0</td>\n",
       "      <td>0</td>\n",
       "      <td>0</td>\n",
       "      <td>51.8625</td>\n",
       "    </tr>\n",
       "    <tr>\n",
       "      <th>7</th>\n",
       "      <td>0</td>\n",
       "      <td>3</td>\n",
       "      <td>male</td>\n",
       "      <td>2.0</td>\n",
       "      <td>3</td>\n",
       "      <td>1</td>\n",
       "      <td>21.0750</td>\n",
       "    </tr>\n",
       "    <tr>\n",
       "      <th>8</th>\n",
       "      <td>1</td>\n",
       "      <td>3</td>\n",
       "      <td>female</td>\n",
       "      <td>27.0</td>\n",
       "      <td>0</td>\n",
       "      <td>2</td>\n",
       "      <td>11.1333</td>\n",
       "    </tr>\n",
       "    <tr>\n",
       "      <th>9</th>\n",
       "      <td>1</td>\n",
       "      <td>2</td>\n",
       "      <td>female</td>\n",
       "      <td>14.0</td>\n",
       "      <td>1</td>\n",
       "      <td>0</td>\n",
       "      <td>30.0708</td>\n",
       "    </tr>\n",
       "  </tbody>\n",
       "</table>\n",
       "</div>"
      ],
      "text/plain": [
       "   Survived  Pclass     Sex   Age  SibSp  Parch     Fare\n",
       "0         0       3    male  22.0      1      0   7.2500\n",
       "1         1       1  female  38.0      1      0  71.2833\n",
       "2         1       3  female  26.0      0      0   7.9250\n",
       "3         1       1  female  35.0      1      0  53.1000\n",
       "4         0       3    male  35.0      0      0   8.0500\n",
       "5         0       3    male   NaN      0      0   8.4583\n",
       "6         0       1    male  54.0      0      0  51.8625\n",
       "7         0       3    male   2.0      3      1  21.0750\n",
       "8         1       3  female  27.0      0      2  11.1333\n",
       "9         1       2  female  14.0      1      0  30.0708"
      ]
     },
     "execution_count": 179,
     "metadata": {},
     "output_type": "execute_result"
    }
   ],
   "source": [
    "column_drop=[\"Name\", \"PassengerId\", \"Embarked\",\"Cabin\", \"Ticket\"]\n",
    "\n",
    "data_clean=data.drop(axis=1,\n",
    "    columns=column_drop)\n",
    "data_clean.head(n=10)\n"
   ]
  },
  {
   "cell_type": "code",
   "execution_count": 180,
   "metadata": {},
   "outputs": [
    {
     "data": {
      "text/html": [
       "<div>\n",
       "<style scoped>\n",
       "    .dataframe tbody tr th:only-of-type {\n",
       "        vertical-align: middle;\n",
       "    }\n",
       "\n",
       "    .dataframe tbody tr th {\n",
       "        vertical-align: top;\n",
       "    }\n",
       "\n",
       "    .dataframe thead th {\n",
       "        text-align: right;\n",
       "    }\n",
       "</style>\n",
       "<table border=\"1\" class=\"dataframe\">\n",
       "  <thead>\n",
       "    <tr style=\"text-align: right;\">\n",
       "      <th></th>\n",
       "      <th>Survived</th>\n",
       "      <th>Pclass</th>\n",
       "      <th>Sex</th>\n",
       "      <th>Age</th>\n",
       "      <th>SibSp</th>\n",
       "      <th>Parch</th>\n",
       "      <th>Fare</th>\n",
       "    </tr>\n",
       "  </thead>\n",
       "  <tbody>\n",
       "    <tr>\n",
       "      <th>0</th>\n",
       "      <td>0</td>\n",
       "      <td>3</td>\n",
       "      <td>1</td>\n",
       "      <td>22.0</td>\n",
       "      <td>1</td>\n",
       "      <td>0</td>\n",
       "      <td>7.2500</td>\n",
       "    </tr>\n",
       "    <tr>\n",
       "      <th>1</th>\n",
       "      <td>1</td>\n",
       "      <td>1</td>\n",
       "      <td>0</td>\n",
       "      <td>38.0</td>\n",
       "      <td>1</td>\n",
       "      <td>0</td>\n",
       "      <td>71.2833</td>\n",
       "    </tr>\n",
       "    <tr>\n",
       "      <th>2</th>\n",
       "      <td>1</td>\n",
       "      <td>3</td>\n",
       "      <td>0</td>\n",
       "      <td>26.0</td>\n",
       "      <td>0</td>\n",
       "      <td>0</td>\n",
       "      <td>7.9250</td>\n",
       "    </tr>\n",
       "    <tr>\n",
       "      <th>3</th>\n",
       "      <td>1</td>\n",
       "      <td>1</td>\n",
       "      <td>0</td>\n",
       "      <td>35.0</td>\n",
       "      <td>1</td>\n",
       "      <td>0</td>\n",
       "      <td>53.1000</td>\n",
       "    </tr>\n",
       "    <tr>\n",
       "      <th>4</th>\n",
       "      <td>0</td>\n",
       "      <td>3</td>\n",
       "      <td>1</td>\n",
       "      <td>35.0</td>\n",
       "      <td>0</td>\n",
       "      <td>0</td>\n",
       "      <td>8.0500</td>\n",
       "    </tr>\n",
       "    <tr>\n",
       "      <th>5</th>\n",
       "      <td>0</td>\n",
       "      <td>3</td>\n",
       "      <td>1</td>\n",
       "      <td>NaN</td>\n",
       "      <td>0</td>\n",
       "      <td>0</td>\n",
       "      <td>8.4583</td>\n",
       "    </tr>\n",
       "    <tr>\n",
       "      <th>6</th>\n",
       "      <td>0</td>\n",
       "      <td>1</td>\n",
       "      <td>1</td>\n",
       "      <td>54.0</td>\n",
       "      <td>0</td>\n",
       "      <td>0</td>\n",
       "      <td>51.8625</td>\n",
       "    </tr>\n",
       "    <tr>\n",
       "      <th>7</th>\n",
       "      <td>0</td>\n",
       "      <td>3</td>\n",
       "      <td>1</td>\n",
       "      <td>2.0</td>\n",
       "      <td>3</td>\n",
       "      <td>1</td>\n",
       "      <td>21.0750</td>\n",
       "    </tr>\n",
       "    <tr>\n",
       "      <th>8</th>\n",
       "      <td>1</td>\n",
       "      <td>3</td>\n",
       "      <td>0</td>\n",
       "      <td>27.0</td>\n",
       "      <td>0</td>\n",
       "      <td>2</td>\n",
       "      <td>11.1333</td>\n",
       "    </tr>\n",
       "    <tr>\n",
       "      <th>9</th>\n",
       "      <td>1</td>\n",
       "      <td>2</td>\n",
       "      <td>0</td>\n",
       "      <td>14.0</td>\n",
       "      <td>1</td>\n",
       "      <td>0</td>\n",
       "      <td>30.0708</td>\n",
       "    </tr>\n",
       "  </tbody>\n",
       "</table>\n",
       "</div>"
      ],
      "text/plain": [
       "   Survived  Pclass  Sex   Age  SibSp  Parch     Fare\n",
       "0         0       3    1  22.0      1      0   7.2500\n",
       "1         1       1    0  38.0      1      0  71.2833\n",
       "2         1       3    0  26.0      0      0   7.9250\n",
       "3         1       1    0  35.0      1      0  53.1000\n",
       "4         0       3    1  35.0      0      0   8.0500\n",
       "5         0       3    1   NaN      0      0   8.4583\n",
       "6         0       1    1  54.0      0      0  51.8625\n",
       "7         0       3    1   2.0      3      1  21.0750\n",
       "8         1       3    0  27.0      0      2  11.1333\n",
       "9         1       2    0  14.0      1      0  30.0708"
      ]
     },
     "execution_count": 180,
     "metadata": {},
     "output_type": "execute_result"
    }
   ],
   "source": [
    "from sklearn.preprocessing import LabelEncoder\n",
    "le = LabelEncoder()\n",
    "\n",
    "data_clean[\"Sex\"] = le.fit_transform(data_clean[\"Sex\"])\n",
    "data_clean.head(n=10)\n"
   ]
  },
  {
   "cell_type": "code",
   "execution_count": 181,
   "metadata": {},
   "outputs": [
    {
     "name": "stdout",
     "output_type": "stream",
     "text": [
      "<class 'pandas.core.frame.DataFrame'>\n",
      "RangeIndex: 891 entries, 0 to 890\n",
      "Data columns (total 7 columns):\n",
      "Survived    891 non-null int64\n",
      "Pclass      891 non-null int64\n",
      "Sex         891 non-null int32\n",
      "Age         714 non-null float64\n",
      "SibSp       891 non-null int64\n",
      "Parch       891 non-null int64\n",
      "Fare        891 non-null float64\n",
      "dtypes: float64(2), int32(1), int64(4)\n",
      "memory usage: 45.3 KB\n"
     ]
    }
   ],
   "source": [
    "data_clean.info()"
   ]
  },
  {
   "cell_type": "code",
   "execution_count": 182,
   "metadata": {},
   "outputs": [
    {
     "name": "stdout",
     "output_type": "stream",
     "text": [
      "<class 'pandas.core.frame.DataFrame'>\n",
      "RangeIndex: 891 entries, 0 to 890\n",
      "Data columns (total 7 columns):\n",
      "Survived    891 non-null int64\n",
      "Pclass      891 non-null int64\n",
      "Sex         891 non-null int32\n",
      "Age         891 non-null float64\n",
      "SibSp       891 non-null int64\n",
      "Parch       891 non-null int64\n",
      "Fare        891 non-null float64\n",
      "dtypes: float64(2), int32(1), int64(4)\n",
      "memory usage: 45.3 KB\n"
     ]
    }
   ],
   "source": [
    "data_clean.loc[1][3] #we use this in pandas instead of data_clean which will give an error unlike numpy\n",
    "data_clean[\"Age\"]=data_clean.fillna(data_clean[\"Age\"].mean())[\"Age\"]\n",
    "data_clean.info() # All the nans have been erased in age and replaced by the average of all other ages"
   ]
  },
  {
   "cell_type": "code",
   "execution_count": 183,
   "metadata": {},
   "outputs": [
    {
     "name": "stdout",
     "output_type": "stream",
     "text": [
      "(891, 6) (891, 1)\n",
      "<class 'pandas.core.frame.DataFrame'> <class 'pandas.core.frame.DataFrame'>\n"
     ]
    }
   ],
   "source": [
    "\n",
    "input_col=[\"Pclass\", \"Sex\", \"Age\", \"SibSp\", \"Parch\", \"Fare\"]\n",
    "output_col=[\"Survived\"]\n",
    "\n",
    "X= data_clean[input_col]\n",
    "Y= data_clean[output_col]\n",
    "\n",
    "print(X.shape, Y.shape)\n",
    "print(type(X), type(Y))\n"
   ]
  },
  {
   "cell_type": "markdown",
   "metadata": {},
   "source": [
    "# Define entropy and information gain"
   ]
  },
  {
   "cell_type": "code",
   "execution_count": 184,
   "metadata": {},
   "outputs": [],
   "source": [
    "def entropy(col):\n",
    "    N= col.shape[0]\n",
    "    count = np.unique(col, return_counts= True)\n",
    "    entropy = 0.0\n",
    "    for ix in count[1]:\n",
    "        p = ix/N\n",
    "        entropy+= (-1.0)*(p)*(np.log2(p))\n",
    "    return entropy\n",
    "\n",
    "\n",
    "\n"
   ]
  },
  {
   "cell_type": "code",
   "execution_count": 185,
   "metadata": {},
   "outputs": [
    {
     "data": {
      "text/plain": [
       "'left , right= divide_data(data_clean[:10], 0.5, \"Sex\")\\nprint(left)\\nprint(right)'"
      ]
     },
     "execution_count": 185,
     "metadata": {},
     "output_type": "execute_result"
    }
   ],
   "source": [
    "def divide_data(X, fval, fkey):\n",
    "    # work directly in the pandas dataframe\n",
    "    X_right= pd.DataFrame([], columns= X.columns)\n",
    "    X_left = pd.DataFrame([], columns= X.columns)\n",
    "    \n",
    "    for ix in range(X.shape[0]):\n",
    "        val= X[fkey].loc[ix]\n",
    "        \n",
    "        if(val>fval):\n",
    "            \n",
    "            X_right=X_right.append(X.loc[ix])\n",
    "            \n",
    "        else:\n",
    "            X_left=X_left.append(X.loc[ix])\n",
    "    return X_left, X_right\n",
    "        \n",
    "'''left , right= divide_data(data_clean[:10], 0.5, \"Sex\")\n",
    "print(left)\n",
    "print(right)'''"
   ]
  },
  {
   "cell_type": "code",
   "execution_count": 186,
   "metadata": {},
   "outputs": [],
   "source": [
    "def info_gain(data, fval, fkey):\n",
    "    #print(fkey)\n",
    "    left , right= divide_data(data, fval, fkey)\n",
    "    \n",
    "    # fraction of total samples in the left and right group\n",
    "    l = float(left.shape[0]/data.shape[0])\n",
    "    r = float(right.shape[0]/data.shape[0])\n",
    "    \n",
    "    # if all the samples are in one group\n",
    "    if l==0 or r==0 :\n",
    "        return -1000000\n",
    "    \n",
    "    i_gain= entropy(data.Survived)- (l*entropy(left.Survived) + r* entropy(right.Survived))\n",
    "    return i_gain\n",
    "    \n",
    "    "
   ]
  },
  {
   "cell_type": "code",
   "execution_count": 187,
   "metadata": {},
   "outputs": [
    {
     "name": "stdout",
     "output_type": "stream",
     "text": [
      "Survived\n",
      "0.9607079018756469\n",
      "Pclass\n",
      "0.07579362743608165\n",
      "Sex\n",
      "0.2176601066606142\n",
      "Age\n",
      "0.001158644038169343\n",
      "SibSp\n",
      "0.009584541813400071\n",
      "Parch\n",
      "0.015380754493137694\n",
      "Fare\n",
      "0.042140692838995464\n"
     ]
    }
   ],
   "source": [
    "for ix in data_clean.columns:\n",
    "    print(ix)\n",
    "    print(info_gain(data_clean, data_clean[ix].mean(), ix))"
   ]
  },
  {
   "cell_type": "code",
   "execution_count": 188,
   "metadata": {},
   "outputs": [],
   "source": [
    "class DecisionTree:\n",
    "    \n",
    "    def __init__ (self, depth=0 , max_depth= 5):\n",
    "        self.fkey= None\n",
    "        self.fval=None\n",
    "        self.left= None\n",
    "        self.right= None\n",
    "        self.depth= depth\n",
    "        self.max_depth= max_depth\n",
    "        self.target= None\n",
    "    \n",
    "    def train(self, X_train):\n",
    "        features=[\"Pclass\", \"Sex\", \"Age\", \"SibSp\", \"Parch\", \"Fare\"]\n",
    "        i_gain=[]\n",
    "        \n",
    "        for ix in features:\n",
    "            gain= info_gain(X_train,  X_train[ix].mean(),ix)\n",
    "            i_gain.append(gain)\n",
    "        self.fkey= features[np.argmax(i_gain)]\n",
    "        self.fval= X_train[self.fkey].mean()\n",
    "        print(\"making tree dividing feature is\", self.fkey)\n",
    "        #split data\n",
    "        data_left, data_right= divide_data(X_train , self.fval, self.fkey)\n",
    "        \n",
    "        #to correct the numbering of the data that is split i.e. make it 1,2, 3, 4,instead of 2,5,6 etc \n",
    "        data_left= data_left.reset_index(drop=True)\n",
    "        data_right= data_right.reset_index(drop=True)\n",
    "        \n",
    "        # If node can't be divided further\n",
    "        if( (data_left.shape[0]==0) or (data_right.shape[0]==0)):\n",
    "            if(X_train.Survived.mean()>= 0.5):\n",
    "                self.target= \"Survive\"\n",
    "            else :\n",
    "                self.target=\"Dead\"\n",
    "            return \n",
    "        \n",
    "        \n",
    "        # If depth is more than max_depth then to prevent overfitting\n",
    "        if(self.depth>self.max_depth):\n",
    "            if(X_train.Survived.mean()>= 0.5):\n",
    "                self.target= \"Survive\"\n",
    "            else :\n",
    "                self.target=\"Dead\"\n",
    "            return \n",
    "        \n",
    "        #Recursive case\n",
    "        self.left= DecisionTree(depth= self.depth+1, max_depth= self.max_depth)\n",
    "        self.left.train(data_left)\n",
    "        \n",
    "        self.right= DecisionTree(depth= self.depth+1, max_depth= self.max_depth)\n",
    "        self.right.train(data_right)\n",
    "        \n",
    "        # Set target value for each node\n",
    "        \n",
    "        if(X_train.Survived.mean()>= 0.5):\n",
    "            self.target= \"Survive\"\n",
    "        else :\n",
    "            self.target=\"Dead\"\n",
    "        return\n",
    "    def predict(self, test):\n",
    "        if( test[self.fkey]>self.fval):\n",
    "            if(self.right is None):\n",
    "                return self.target\n",
    "            else :\n",
    "                return self.right.predict(test)\n",
    "        else :\n",
    "            if(self.left is None):\n",
    "                return self.target\n",
    "            else :\n",
    "                return self.left.predict(test)\n",
    "    \n",
    "        \n",
    "        \n",
    "        \n",
    "            "
   ]
  },
  {
   "cell_type": "markdown",
   "metadata": {},
   "source": [
    "# Train- Test -validation split"
   ]
  },
  {
   "cell_type": "code",
   "execution_count": 189,
   "metadata": {},
   "outputs": [
    {
     "data": {
      "text/html": [
       "<div>\n",
       "<style scoped>\n",
       "    .dataframe tbody tr th:only-of-type {\n",
       "        vertical-align: middle;\n",
       "    }\n",
       "\n",
       "    .dataframe tbody tr th {\n",
       "        vertical-align: top;\n",
       "    }\n",
       "\n",
       "    .dataframe thead th {\n",
       "        text-align: right;\n",
       "    }\n",
       "</style>\n",
       "<table border=\"1\" class=\"dataframe\">\n",
       "  <thead>\n",
       "    <tr style=\"text-align: right;\">\n",
       "      <th></th>\n",
       "      <th>Survived</th>\n",
       "      <th>Pclass</th>\n",
       "      <th>Sex</th>\n",
       "      <th>Age</th>\n",
       "      <th>SibSp</th>\n",
       "      <th>Parch</th>\n",
       "      <th>Fare</th>\n",
       "    </tr>\n",
       "  </thead>\n",
       "  <tbody>\n",
       "    <tr>\n",
       "      <th>0</th>\n",
       "      <td>0</td>\n",
       "      <td>3</td>\n",
       "      <td>1</td>\n",
       "      <td>21.0</td>\n",
       "      <td>0</td>\n",
       "      <td>0</td>\n",
       "      <td>7.8542</td>\n",
       "    </tr>\n",
       "    <tr>\n",
       "      <th>1</th>\n",
       "      <td>0</td>\n",
       "      <td>3</td>\n",
       "      <td>1</td>\n",
       "      <td>21.0</td>\n",
       "      <td>0</td>\n",
       "      <td>0</td>\n",
       "      <td>16.1000</td>\n",
       "    </tr>\n",
       "    <tr>\n",
       "      <th>2</th>\n",
       "      <td>0</td>\n",
       "      <td>1</td>\n",
       "      <td>1</td>\n",
       "      <td>61.0</td>\n",
       "      <td>0</td>\n",
       "      <td>0</td>\n",
       "      <td>32.3208</td>\n",
       "    </tr>\n",
       "    <tr>\n",
       "      <th>3</th>\n",
       "      <td>0</td>\n",
       "      <td>2</td>\n",
       "      <td>1</td>\n",
       "      <td>57.0</td>\n",
       "      <td>0</td>\n",
       "      <td>0</td>\n",
       "      <td>12.3500</td>\n",
       "    </tr>\n",
       "    <tr>\n",
       "      <th>4</th>\n",
       "      <td>1</td>\n",
       "      <td>1</td>\n",
       "      <td>0</td>\n",
       "      <td>21.0</td>\n",
       "      <td>0</td>\n",
       "      <td>0</td>\n",
       "      <td>77.9583</td>\n",
       "    </tr>\n",
       "  </tbody>\n",
       "</table>\n",
       "</div>"
      ],
      "text/plain": [
       "   Survived  Pclass  Sex   Age  SibSp  Parch     Fare\n",
       "0         0       3    1  21.0      0      0   7.8542\n",
       "1         0       3    1  21.0      0      0  16.1000\n",
       "2         0       1    1  61.0      0      0  32.3208\n",
       "3         0       2    1  57.0      0      0  12.3500\n",
       "4         1       1    0  21.0      0      0  77.9583"
      ]
     },
     "execution_count": 189,
     "metadata": {},
     "output_type": "execute_result"
    }
   ],
   "source": [
    "split= int(0.7* data_clean.shape[0])\n",
    "Xt= data_clean[:split]\n",
    "XT= data_clean[split:]\n",
    "\n",
    "XT=XT.reset_index(drop= True)\n",
    "XT.head()"
   ]
  },
  {
   "cell_type": "code",
   "execution_count": 190,
   "metadata": {},
   "outputs": [
    {
     "name": "stdout",
     "output_type": "stream",
     "text": [
      "making tree dividing feature is Sex\n",
      "making tree dividing feature is Pclass\n",
      "making tree dividing feature is Age\n",
      "making tree dividing feature is SibSp\n",
      "making tree dividing feature is Pclass\n",
      "making tree dividing feature is Age\n",
      "making tree dividing feature is Age\n",
      "making tree dividing feature is Age\n",
      "making tree dividing feature is Age\n",
      "making tree dividing feature is Age\n",
      "making tree dividing feature is Age\n",
      "making tree dividing feature is SibSp\n",
      "making tree dividing feature is Parch\n",
      "making tree dividing feature is Pclass\n",
      "making tree dividing feature is Pclass\n",
      "making tree dividing feature is Pclass\n",
      "making tree dividing feature is Age\n",
      "making tree dividing feature is Age\n",
      "making tree dividing feature is SibSp\n",
      "making tree dividing feature is Fare\n",
      "making tree dividing feature is Parch\n",
      "making tree dividing feature is Pclass\n",
      "making tree dividing feature is Pclass\n",
      "making tree dividing feature is Age\n",
      "making tree dividing feature is Age\n",
      "making tree dividing feature is Age\n",
      "making tree dividing feature is Pclass\n",
      "making tree dividing feature is Age\n",
      "making tree dividing feature is Age\n",
      "making tree dividing feature is Age\n",
      "making tree dividing feature is Age\n",
      "making tree dividing feature is Age\n",
      "making tree dividing feature is Age\n",
      "making tree dividing feature is Parch\n",
      "making tree dividing feature is SibSp\n",
      "making tree dividing feature is Fare\n",
      "making tree dividing feature is Age\n",
      "making tree dividing feature is Fare\n",
      "making tree dividing feature is Age\n",
      "making tree dividing feature is Age\n",
      "making tree dividing feature is Fare\n",
      "making tree dividing feature is Age\n",
      "making tree dividing feature is Fare\n",
      "making tree dividing feature is Age\n",
      "making tree dividing feature is Age\n",
      "making tree dividing feature is Age\n",
      "making tree dividing feature is Age\n",
      "making tree dividing feature is Age\n",
      "making tree dividing feature is Age\n",
      "making tree dividing feature is Fare\n",
      "making tree dividing feature is Age\n",
      "making tree dividing feature is Parch\n",
      "making tree dividing feature is SibSp\n",
      "making tree dividing feature is Age\n",
      "making tree dividing feature is Fare\n",
      "making tree dividing feature is Parch\n",
      "making tree dividing feature is SibSp\n",
      "making tree dividing feature is Fare\n",
      "making tree dividing feature is Fare\n",
      "making tree dividing feature is Age\n",
      "making tree dividing feature is Fare\n",
      "making tree dividing feature is Age\n",
      "making tree dividing feature is Age\n",
      "making tree dividing feature is Age\n",
      "making tree dividing feature is Fare\n",
      "making tree dividing feature is Parch\n",
      "making tree dividing feature is Fare\n",
      "making tree dividing feature is Age\n",
      "making tree dividing feature is Age\n",
      "making tree dividing feature is Fare\n",
      "making tree dividing feature is Fare\n",
      "making tree dividing feature is Fare\n",
      "making tree dividing feature is Pclass\n",
      "making tree dividing feature is Fare\n",
      "making tree dividing feature is Fare\n",
      "making tree dividing feature is SibSp\n",
      "making tree dividing feature is Pclass\n",
      "making tree dividing feature is Pclass\n",
      "making tree dividing feature is Fare\n",
      "making tree dividing feature is Pclass\n",
      "making tree dividing feature is Pclass\n",
      "making tree dividing feature is Age\n",
      "making tree dividing feature is Fare\n",
      "making tree dividing feature is Pclass\n",
      "making tree dividing feature is Pclass\n",
      "making tree dividing feature is Age\n",
      "making tree dividing feature is SibSp\n",
      "making tree dividing feature is Age\n",
      "making tree dividing feature is Pclass\n",
      "making tree dividing feature is Age\n",
      "making tree dividing feature is Age\n",
      "making tree dividing feature is Age\n",
      "making tree dividing feature is Age\n",
      "making tree dividing feature is Age\n",
      "making tree dividing feature is Age\n",
      "making tree dividing feature is Age\n",
      "making tree dividing feature is Pclass\n",
      "making tree dividing feature is Age\n",
      "making tree dividing feature is SibSp\n",
      "making tree dividing feature is Fare\n",
      "making tree dividing feature is Age\n",
      "making tree dividing feature is Age\n",
      "making tree dividing feature is SibSp\n",
      "making tree dividing feature is Parch\n",
      "making tree dividing feature is Pclass\n",
      "making tree dividing feature is Age\n",
      "making tree dividing feature is Parch\n",
      "making tree dividing feature is Age\n",
      "making tree dividing feature is Age\n",
      "making tree dividing feature is SibSp\n",
      "making tree dividing feature is Age\n",
      "making tree dividing feature is Age\n",
      "making tree dividing feature is SibSp\n",
      "making tree dividing feature is Age\n",
      "making tree dividing feature is Age\n",
      "making tree dividing feature is Age\n",
      "making tree dividing feature is Pclass\n",
      "making tree dividing feature is Age\n",
      "making tree dividing feature is Age\n",
      "making tree dividing feature is Pclass\n",
      "making tree dividing feature is Parch\n",
      "making tree dividing feature is Age\n",
      "making tree dividing feature is Age\n",
      "making tree dividing feature is Age\n",
      "making tree dividing feature is Age\n",
      "making tree dividing feature is Age\n",
      "making tree dividing feature is Pclass\n"
     ]
    }
   ],
   "source": [
    "d= DecisionTree()\n",
    "d.train(Xt)\n"
   ]
  },
  {
   "cell_type": "code",
   "execution_count": 192,
   "metadata": {},
   "outputs": [
    {
     "name": "stdout",
     "output_type": "stream",
     "text": [
      "Sex\n",
      "0.6292134831460674\n"
     ]
    }
   ],
   "source": [
    "print(d.fkey)\n",
    "print(d.fval)"
   ]
  },
  {
   "cell_type": "code",
   "execution_count": 193,
   "metadata": {},
   "outputs": [
    {
     "name": "stdout",
     "output_type": "stream",
     "text": [
      "[0 0 0 0 1 0 0 0 0 0 0 0 1 0 0 0 0 0 1 0 0 1 0 0 0 0 1 0 1 0 1 1 0 0 0 0 0\n",
      " 0 0 0 0 0 0 0 0 0 1 1 1 0 0 0 0 0 0 0 0 1 0 0 0 0 0 0 0 0 1 1 1 0 0 0 0 0\n",
      " 1 0 0 1 0 1 0 0 0 1 0 1 1 1 0 0 0 0 0 1 1 0 0 1 0 0 0 1 0 1 1 0 0 1 0 0 0\n",
      " 0 0 0 0 0 0 0 1 1 0 0 1 1 1 1 0 1 0 0 0 1 0 0 0 0 1 0 0 0 1 0 1 0 1 0 0 0\n",
      " 0 1 0 1 0 0 0 0 1 1 1 0 1 0 0 1 0 1 0 0 0 0 0 0 0 1 1 0 0 0 1 1 0 0 0 0 1\n",
      " 0 1 0 0 0 0 0 0 1 0 0 0 1 0 0 0 0 0 0 1 0 1 0 1 0 0 0 1 0 0 0 0 0 0 1 0 0\n",
      " 0 0 0 0 1 0 0 1 1 1 1 1 0 1 0 1 1 1 0 0 1 1 0 0 0 0 1 0 0 1 1 0 0 0 1 1 0\n",
      " 0 0 0 0 0 1 0 0 0]\n"
     ]
    }
   ],
   "source": [
    "y_pred=[]\n",
    "\n",
    "for ix in range(XT.shape[0]):\n",
    "    pred= d.predict(XT.loc[ix])\n",
    "    y_pred.append(pred)\n",
    "\n",
    "le = LabelEncoder()\n",
    "\n",
    "y_pred = le.fit_transform(y_pred)\n",
    "print(y_pred)\n"
   ]
  },
  {
   "cell_type": "code",
   "execution_count": 194,
   "metadata": {},
   "outputs": [
    {
     "name": "stdout",
     "output_type": "stream",
     "text": [
      "(268, 1)\n",
      "(268,)\n",
      "(268, 1)\n"
     ]
    }
   ],
   "source": [
    "y_actual= XT[output_col]\n",
    "print(y_actual.shape)\n",
    "print(y_pred.shape)\n",
    "y_pred= np.array(y_pred).reshape((-1, 1))\n",
    "print(y_pred.shape)"
   ]
  },
  {
   "cell_type": "code",
   "execution_count": 195,
   "metadata": {},
   "outputs": [
    {
     "name": "stdout",
     "output_type": "stream",
     "text": [
      "81.34328358208955\n"
     ]
    }
   ],
   "source": [
    "accuracy = np.sum(np.array(y_pred)==np.array(y_actual))/y_pred.shape[0]*100\n",
    "print(accuracy)"
   ]
  },
  {
   "cell_type": "markdown",
   "metadata": {},
   "source": [
    "# Decision trees using sklearn"
   ]
  },
  {
   "cell_type": "code",
   "execution_count": 196,
   "metadata": {},
   "outputs": [
    {
     "name": "stdout",
     "output_type": "stream",
     "text": [
      "[0 0 0 0 1 0 0 0 0 0 0 0 1 0 0 0 0 0 1 0 0 1 0 0 0 0 1 0 1 0 1 1 0 0 1 0 0\n",
      " 0 0 0 0 0 0 0 0 0 1 1 0 0 0 0 0 0 1 0 0 1 0 0 0 0 0 0 0 0 1 0 1 0 0 0 0 0\n",
      " 1 0 0 1 0 1 0 0 0 1 0 1 0 1 0 0 0 0 0 1 0 0 0 1 0 0 0 0 0 1 1 0 1 1 1 0 0\n",
      " 0 0 0 0 0 0 0 0 1 0 0 0 0 1 0 0 1 1 0 0 1 1 0 0 0 1 0 0 0 1 0 1 0 1 0 0 0\n",
      " 0 1 0 1 0 0 1 0 1 1 1 0 0 0 0 1 0 1 0 0 0 0 0 0 0 1 1 0 1 0 1 1 1 0 0 0 1\n",
      " 0 1 0 0 0 0 0 0 1 0 0 0 1 0 0 1 0 0 0 1 0 1 1 1 0 0 0 1 0 0 0 0 0 0 1 0 0\n",
      " 0 0 0 0 1 0 0 1 1 1 1 1 0 1 0 0 0 1 0 0 1 0 0 0 1 0 1 0 0 1 1 0 0 0 1 0 0\n",
      " 1 0 0 0 0 1 1 0 0]\n"
     ]
    }
   ],
   "source": [
    "from sklearn.tree import DecisionTreeClassifier\n",
    "\n",
    "sk_tree= DecisionTreeClassifier(criterion='entropy',\n",
    "    max_depth=5)\n",
    "input_col=[\"Pclass\", \"Sex\", \"Age\", \"SibSp\", \"Parch\", \"Fare\"]\n",
    "output_col=[\"Survived\"]\n",
    "\n",
    "sk_tree.fit(Xt[input_col], Xt[output_col])\n",
    "\n",
    "y= sk_tree.predict(XT[input_col])\n",
    "print(y)\n"
   ]
  },
  {
   "cell_type": "code",
   "execution_count": 197,
   "metadata": {},
   "outputs": [
    {
     "data": {
      "text/plain": [
       "0.8283582089552238"
      ]
     },
     "execution_count": 197,
     "metadata": {},
     "output_type": "execute_result"
    }
   ],
   "source": [
    "sk_tree.score(XT[input_col], XT[output_col])"
   ]
  },
  {
   "cell_type": "markdown",
   "metadata": {},
   "source": [
    "# Random forests"
   ]
  },
  {
   "cell_type": "code",
   "execution_count": 210,
   "metadata": {},
   "outputs": [],
   "source": [
    "Xtrain= Xt[input_col]\n",
    "Ytrain= np.array(Xt[output_col]).reshape((-1,))\n",
    "Xtest = XT[input_col]\n",
    "Ytest= np.array(XT[output_col]).reshape((-1,))"
   ]
  },
  {
   "cell_type": "code",
   "execution_count": 225,
   "metadata": {},
   "outputs": [
    {
     "name": "stdout",
     "output_type": "stream",
     "text": [
      "0.8283582089552238\n",
      "0.8443017656500803\n"
     ]
    }
   ],
   "source": [
    "sk_tree= DecisionTreeClassifier(criterion='entropy',\n",
    "    max_depth=5)\n",
    "sk_tree.fit(Xtrain, Ytrain)\n",
    "print(sk_tree.score(Xtest, Ytest))\n",
    "print(sk_tree.score(Xtrain,Ytrain))"
   ]
  },
  {
   "cell_type": "code",
   "execution_count": 226,
   "metadata": {},
   "outputs": [],
   "source": [
    "from sklearn.ensemble import RandomForestClassifier\n",
    "from sklearn.model_selection import cross_val_score"
   ]
  },
  {
   "cell_type": "code",
   "execution_count": 232,
   "metadata": {},
   "outputs": [],
   "source": [
    "rf = RandomForestClassifier(n_estimators=10,\n",
    "    criterion='entropy',\n",
    "    max_depth=7,\n",
    "   )\n"
   ]
  },
  {
   "cell_type": "code",
   "execution_count": 233,
   "metadata": {},
   "outputs": [
    {
     "name": "stdout",
     "output_type": "stream",
     "text": [
      "0.8876404494382022\n",
      "0.8097014925373134\n"
     ]
    }
   ],
   "source": [
    "rf.fit(Xtrain,Ytrain,)\n",
    "print(rf.score(Xtrain,Ytrain))\n",
    "print(rf.score(Xtest,Ytest))"
   ]
  },
  {
   "cell_type": "code",
   "execution_count": 252,
   "metadata": {},
   "outputs": [
    {
     "name": "stdout",
     "output_type": "stream",
     "text": [
      "[0.7674011264720942, 0.7899664106502817, 0.7851027137736815, 0.7833747055811571, 0.7803535074244751, 0.7978525345622121, 0.8154914490527394, 0.8042136200716847, 0.8010009216589861, 0.8122015360983103, 0.8186783410138249, 0.7947670250896057, 0.8075799283154123, 0.8059160266257039, 0.7979285202252944, 0.8171039426523297, 0.8170013312852022, 0.8027414234511008, 0.8074652329749105, 0.7994775217613926, 0.8074271377368152, 0.8122908346134153, 0.8011162314388122, 0.8091672299027138, 0.8122781362007168, 0.8058781362007169, 0.8074781362007168, 0.8187295442908347, 0.8122783410138249, 0.821878955453149, 0.818563236047107, 0.8170912442396313, 0.817168049155146, 0.8106267281105991, 0.8122271377368152, 0.8090271377368152, 0.8187168458781361, 0.8154654377880185, 0.8187297491039427, 0.8154398361495137, 0.825078955453149, 0.8170400409626216, 0.8234275473630313, 0.8266916538658474, 0.8170785458269328, 0.8186656426011265, 0.8138654377880183, 0.8235043522785459, 0.8234787506400411, 0.8219043522785459]\n"
     ]
    }
   ],
   "source": [
    "acc_list= []\n",
    "for i in range (50):\n",
    "    acc= cross_val_score(RandomForestClassifier(n_estimators= i+1 , criterion= 'entropy', max_depth= 5), Xtrain, Ytrain, cv=5).mean()\n",
    "    acc_list.append(acc)\n",
    "print(acc_list)"
   ]
  },
  {
   "cell_type": "code",
   "execution_count": 253,
   "metadata": {},
   "outputs": [
    {
     "data": {
      "image/png": "[encoded data removed]",
      "text/plain": [
       "<Figure size 576x396 with 1 Axes>"
      ]
     },
     "metadata": {},
     "output_type": "display_data"
    }
   ],
   "source": [
    "import matplotlib.pyplot as plt\n",
    "\n",
    "plt.style.use(\"seaborn\")\n",
    "plt.plot(acc_list)\n",
    "plt.show()"
   ]
  },
  {
   "cell_type": "code",
   "execution_count": 254,
   "metadata": {},
   "outputs": [
    {
     "data": {
      "text/plain": [
       "43"
      ]
     },
     "execution_count": 254,
     "metadata": {},
     "output_type": "execute_result"
    }
   ],
   "source": [
    "np.argmax(acc_list)"
   ]
  },
  {
   "cell_type": "code",
   "execution_count": 256,
   "metadata": {},
   "outputs": [
    {
     "name": "stdout",
     "output_type": "stream",
     "text": [
      "0.884430176565008\n",
      "0.832089552238806\n"
     ]
    }
   ],
   "source": [
    "rf = RandomForestClassifier(n_estimators=43,\n",
    "    criterion='entropy',\n",
    "    max_depth=7,\n",
    "   )\n",
    "rf.fit(Xtrain,Ytrain,)\n",
    "print(rf.score(Xtrain,Ytrain))\n",
    "print(rf.score(Xtest,Ytest))\n"
   ]
  },
  {
   "cell_type": "code",
   "execution_count": null,
   "metadata": {},
   "outputs": [],
   "source": []
  }
 ],
 "metadata": {
  "kernelspec": {
   "display_name": "Python 3",
   "language": "python",
   "name": "python3"
  },
  "language_info": {
   "codemirror_mode": {
    "name": "ipython",
    "version": 3
   },
   "file_extension": ".py",
   "mimetype": "text/x-python",
   "name": "python",
   "nbconvert_exporter": "python",
   "pygments_lexer": "ipython3",
   "version": "3.7.3"
  }
 },
 "nbformat": 4,
 "nbformat_minor": 2
}
